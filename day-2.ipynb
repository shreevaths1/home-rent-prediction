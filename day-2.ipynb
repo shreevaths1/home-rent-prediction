{
 "cells": [
  {
   "cell_type": "markdown",
   "id": "b75ecabe-80d0-462f-a9ca-7dd9a7be8758",
   "metadata": {},
   "source": [
    "### data cleaning"
   ]
  },
  {
   "cell_type": "code",
   "execution_count": 1,
   "id": "3146a15c-d96f-43d4-a043-a5bfb471bd11",
   "metadata": {},
   "outputs": [],
   "source": [
    "import pandas as pd\n",
    "import numpy as np\n",
    "import matplotlib.pyplot as plt\n",
    "import plotly.express as px"
   ]
  },
  {
   "cell_type": "code",
   "execution_count": 2,
   "id": "4fbe3502-183f-4056-b5d6-e55716d8b141",
   "metadata": {},
   "outputs": [
    {
     "data": {
      "text/html": [
       "<div>\n",
       "<style scoped>\n",
       "    .dataframe tbody tr th:only-of-type {\n",
       "        vertical-align: middle;\n",
       "    }\n",
       "\n",
       "    .dataframe tbody tr th {\n",
       "        vertical-align: top;\n",
       "    }\n",
       "\n",
       "    .dataframe thead th {\n",
       "        text-align: right;\n",
       "    }\n",
       "</style>\n",
       "<table border=\"1\" class=\"dataframe\">\n",
       "  <thead>\n",
       "    <tr style=\"text-align: right;\">\n",
       "      <th></th>\n",
       "      <th>Posted On</th>\n",
       "      <th>BHK</th>\n",
       "      <th>Rent</th>\n",
       "      <th>Size</th>\n",
       "      <th>Floor</th>\n",
       "      <th>Area Type</th>\n",
       "      <th>Area Locality</th>\n",
       "      <th>City</th>\n",
       "      <th>Furnishing Status</th>\n",
       "      <th>Tenant Preferred</th>\n",
       "      <th>Bathroom</th>\n",
       "      <th>Point Of Contact</th>\n",
       "    </tr>\n",
       "  </thead>\n",
       "  <tbody>\n",
       "    <tr>\n",
       "      <th>0</th>\n",
       "      <td>2022-05-18</td>\n",
       "      <td>2</td>\n",
       "      <td>10000</td>\n",
       "      <td>1100</td>\n",
       "      <td>Ground out of 2</td>\n",
       "      <td>Super Area</td>\n",
       "      <td>Bandel</td>\n",
       "      <td>Kolkata</td>\n",
       "      <td>Unfurnished</td>\n",
       "      <td>Bachelors/Family</td>\n",
       "      <td>2</td>\n",
       "      <td>Contact Owner</td>\n",
       "    </tr>\n",
       "    <tr>\n",
       "      <th>1</th>\n",
       "      <td>2022-05-13</td>\n",
       "      <td>2</td>\n",
       "      <td>20000</td>\n",
       "      <td>800</td>\n",
       "      <td>1 out of 3</td>\n",
       "      <td>Super Area</td>\n",
       "      <td>Phool Bagan, Kankurgachi</td>\n",
       "      <td>Kolkata</td>\n",
       "      <td>Semi-Furnished</td>\n",
       "      <td>Bachelors/Family</td>\n",
       "      <td>1</td>\n",
       "      <td>Contact Owner</td>\n",
       "    </tr>\n",
       "    <tr>\n",
       "      <th>2</th>\n",
       "      <td>2022-05-16</td>\n",
       "      <td>2</td>\n",
       "      <td>17000</td>\n",
       "      <td>1000</td>\n",
       "      <td>1 out of 3</td>\n",
       "      <td>Super Area</td>\n",
       "      <td>Salt Lake City Sector 2</td>\n",
       "      <td>Kolkata</td>\n",
       "      <td>Semi-Furnished</td>\n",
       "      <td>Bachelors/Family</td>\n",
       "      <td>1</td>\n",
       "      <td>Contact Owner</td>\n",
       "    </tr>\n",
       "    <tr>\n",
       "      <th>3</th>\n",
       "      <td>2022-07-04</td>\n",
       "      <td>2</td>\n",
       "      <td>10000</td>\n",
       "      <td>800</td>\n",
       "      <td>1 out of 2</td>\n",
       "      <td>Super Area</td>\n",
       "      <td>Dumdum Park</td>\n",
       "      <td>Kolkata</td>\n",
       "      <td>Unfurnished</td>\n",
       "      <td>Bachelors/Family</td>\n",
       "      <td>1</td>\n",
       "      <td>Contact Owner</td>\n",
       "    </tr>\n",
       "    <tr>\n",
       "      <th>4</th>\n",
       "      <td>2022-05-09</td>\n",
       "      <td>2</td>\n",
       "      <td>7500</td>\n",
       "      <td>850</td>\n",
       "      <td>1 out of 2</td>\n",
       "      <td>Carpet Area</td>\n",
       "      <td>South Dum Dum</td>\n",
       "      <td>Kolkata</td>\n",
       "      <td>Unfurnished</td>\n",
       "      <td>Bachelors</td>\n",
       "      <td>1</td>\n",
       "      <td>Contact Owner</td>\n",
       "    </tr>\n",
       "    <tr>\n",
       "      <th>5</th>\n",
       "      <td>2022-04-29</td>\n",
       "      <td>2</td>\n",
       "      <td>7000</td>\n",
       "      <td>600</td>\n",
       "      <td>Ground out of 1</td>\n",
       "      <td>Super Area</td>\n",
       "      <td>Thakurpukur</td>\n",
       "      <td>Kolkata</td>\n",
       "      <td>Unfurnished</td>\n",
       "      <td>Bachelors/Family</td>\n",
       "      <td>2</td>\n",
       "      <td>Contact Owner</td>\n",
       "    </tr>\n",
       "  </tbody>\n",
       "</table>\n",
       "</div>"
      ],
      "text/plain": [
       "    Posted On  BHK   Rent  Size            Floor    Area Type  \\\n",
       "0  2022-05-18    2  10000  1100  Ground out of 2   Super Area   \n",
       "1  2022-05-13    2  20000   800       1 out of 3   Super Area   \n",
       "2  2022-05-16    2  17000  1000       1 out of 3   Super Area   \n",
       "3  2022-07-04    2  10000   800       1 out of 2   Super Area   \n",
       "4  2022-05-09    2   7500   850       1 out of 2  Carpet Area   \n",
       "5  2022-04-29    2   7000   600  Ground out of 1   Super Area   \n",
       "\n",
       "              Area Locality     City Furnishing Status  Tenant Preferred  \\\n",
       "0                    Bandel  Kolkata       Unfurnished  Bachelors/Family   \n",
       "1  Phool Bagan, Kankurgachi  Kolkata    Semi-Furnished  Bachelors/Family   \n",
       "2   Salt Lake City Sector 2  Kolkata    Semi-Furnished  Bachelors/Family   \n",
       "3               Dumdum Park  Kolkata       Unfurnished  Bachelors/Family   \n",
       "4             South Dum Dum  Kolkata       Unfurnished         Bachelors   \n",
       "5               Thakurpukur  Kolkata       Unfurnished  Bachelors/Family   \n",
       "\n",
       "   Bathroom Point Of Contact  \n",
       "0         2    Contact Owner  \n",
       "1         1    Contact Owner  \n",
       "2         1    Contact Owner  \n",
       "3         1    Contact Owner  \n",
       "4         1    Contact Owner  \n",
       "5         2    Contact Owner  "
      ]
     },
     "execution_count": 2,
     "metadata": {},
     "output_type": "execute_result"
    }
   ],
   "source": [
    "dt = pd.read_csv(\"house-rent.csv\")\n",
    "dt.head(6)"
   ]
  },
  {
   "cell_type": "markdown",
   "id": "8c5e93fb-be86-4cc7-adde-d93bae9bd768",
   "metadata": {},
   "source": [
    "Data Types"
   ]
  },
  {
   "cell_type": "code",
   "execution_count": 3,
   "id": "254c6120-7660-46d5-b115-3894916921b1",
   "metadata": {},
   "outputs": [
    {
     "data": {
      "text/plain": [
       "Posted On            object\n",
       "BHK                   int64\n",
       "Rent                  int64\n",
       "Size                  int64\n",
       "Floor                object\n",
       "Area Type            object\n",
       "Area Locality        object\n",
       "City                 object\n",
       "Furnishing Status    object\n",
       "Tenant Preferred     object\n",
       "Bathroom              int64\n",
       "Point Of Contact     object\n",
       "dtype: object"
      ]
     },
     "execution_count": 3,
     "metadata": {},
     "output_type": "execute_result"
    }
   ],
   "source": [
    "dt.dtypes"
   ]
  },
  {
   "cell_type": "markdown",
   "id": "b96a609c-9f1d-44f7-9745-8505a51e6404",
   "metadata": {},
   "source": [
    "#### Describe dataset"
   ]
  },
  {
   "cell_type": "code",
   "execution_count": 4,
   "id": "8ef6d044-35ac-490b-8aff-d69abce4c657",
   "metadata": {},
   "outputs": [
    {
     "data": {
      "text/html": [
       "<div>\n",
       "<style scoped>\n",
       "    .dataframe tbody tr th:only-of-type {\n",
       "        vertical-align: middle;\n",
       "    }\n",
       "\n",
       "    .dataframe tbody tr th {\n",
       "        vertical-align: top;\n",
       "    }\n",
       "\n",
       "    .dataframe thead th {\n",
       "        text-align: right;\n",
       "    }\n",
       "</style>\n",
       "<table border=\"1\" class=\"dataframe\">\n",
       "  <thead>\n",
       "    <tr style=\"text-align: right;\">\n",
       "      <th></th>\n",
       "      <th>BHK</th>\n",
       "      <th>Rent</th>\n",
       "      <th>Size</th>\n",
       "      <th>Bathroom</th>\n",
       "    </tr>\n",
       "  </thead>\n",
       "  <tbody>\n",
       "    <tr>\n",
       "      <th>count</th>\n",
       "      <td>4746.000000</td>\n",
       "      <td>4.746000e+03</td>\n",
       "      <td>4746.000000</td>\n",
       "      <td>4746.000000</td>\n",
       "    </tr>\n",
       "    <tr>\n",
       "      <th>mean</th>\n",
       "      <td>2.083860</td>\n",
       "      <td>3.499345e+04</td>\n",
       "      <td>967.490729</td>\n",
       "      <td>1.965866</td>\n",
       "    </tr>\n",
       "    <tr>\n",
       "      <th>std</th>\n",
       "      <td>0.832256</td>\n",
       "      <td>7.810641e+04</td>\n",
       "      <td>634.202328</td>\n",
       "      <td>0.884532</td>\n",
       "    </tr>\n",
       "    <tr>\n",
       "      <th>min</th>\n",
       "      <td>1.000000</td>\n",
       "      <td>1.200000e+03</td>\n",
       "      <td>10.000000</td>\n",
       "      <td>1.000000</td>\n",
       "    </tr>\n",
       "    <tr>\n",
       "      <th>25%</th>\n",
       "      <td>2.000000</td>\n",
       "      <td>1.000000e+04</td>\n",
       "      <td>550.000000</td>\n",
       "      <td>1.000000</td>\n",
       "    </tr>\n",
       "    <tr>\n",
       "      <th>50%</th>\n",
       "      <td>2.000000</td>\n",
       "      <td>1.600000e+04</td>\n",
       "      <td>850.000000</td>\n",
       "      <td>2.000000</td>\n",
       "    </tr>\n",
       "    <tr>\n",
       "      <th>75%</th>\n",
       "      <td>3.000000</td>\n",
       "      <td>3.300000e+04</td>\n",
       "      <td>1200.000000</td>\n",
       "      <td>2.000000</td>\n",
       "    </tr>\n",
       "    <tr>\n",
       "      <th>max</th>\n",
       "      <td>6.000000</td>\n",
       "      <td>3.500000e+06</td>\n",
       "      <td>8000.000000</td>\n",
       "      <td>10.000000</td>\n",
       "    </tr>\n",
       "  </tbody>\n",
       "</table>\n",
       "</div>"
      ],
      "text/plain": [
       "               BHK          Rent         Size     Bathroom\n",
       "count  4746.000000  4.746000e+03  4746.000000  4746.000000\n",
       "mean      2.083860  3.499345e+04   967.490729     1.965866\n",
       "std       0.832256  7.810641e+04   634.202328     0.884532\n",
       "min       1.000000  1.200000e+03    10.000000     1.000000\n",
       "25%       2.000000  1.000000e+04   550.000000     1.000000\n",
       "50%       2.000000  1.600000e+04   850.000000     2.000000\n",
       "75%       3.000000  3.300000e+04  1200.000000     2.000000\n",
       "max       6.000000  3.500000e+06  8000.000000    10.000000"
      ]
     },
     "execution_count": 4,
     "metadata": {},
     "output_type": "execute_result"
    }
   ],
   "source": [
    "# show statistical summary of numerical type variables\n",
    "dt.describe()"
   ]
  },
  {
   "cell_type": "code",
   "execution_count": 5,
   "id": "36c5d597-11b4-4305-8963-41f89f319ecb",
   "metadata": {},
   "outputs": [
    {
     "data": {
      "text/html": [
       "<div>\n",
       "<style scoped>\n",
       "    .dataframe tbody tr th:only-of-type {\n",
       "        vertical-align: middle;\n",
       "    }\n",
       "\n",
       "    .dataframe tbody tr th {\n",
       "        vertical-align: top;\n",
       "    }\n",
       "\n",
       "    .dataframe thead th {\n",
       "        text-align: right;\n",
       "    }\n",
       "</style>\n",
       "<table border=\"1\" class=\"dataframe\">\n",
       "  <thead>\n",
       "    <tr style=\"text-align: right;\">\n",
       "      <th></th>\n",
       "      <th>Posted On</th>\n",
       "      <th>BHK</th>\n",
       "      <th>Rent</th>\n",
       "      <th>Size</th>\n",
       "      <th>Floor</th>\n",
       "      <th>Area Type</th>\n",
       "      <th>Area Locality</th>\n",
       "      <th>City</th>\n",
       "      <th>Furnishing Status</th>\n",
       "      <th>Tenant Preferred</th>\n",
       "      <th>Bathroom</th>\n",
       "      <th>Point Of Contact</th>\n",
       "    </tr>\n",
       "  </thead>\n",
       "  <tbody>\n",
       "    <tr>\n",
       "      <th>count</th>\n",
       "      <td>4746</td>\n",
       "      <td>4746.000000</td>\n",
       "      <td>4.746000e+03</td>\n",
       "      <td>4746.000000</td>\n",
       "      <td>4746</td>\n",
       "      <td>4746</td>\n",
       "      <td>4746</td>\n",
       "      <td>4746</td>\n",
       "      <td>4746</td>\n",
       "      <td>4746</td>\n",
       "      <td>4746.000000</td>\n",
       "      <td>4746</td>\n",
       "    </tr>\n",
       "    <tr>\n",
       "      <th>unique</th>\n",
       "      <td>81</td>\n",
       "      <td>NaN</td>\n",
       "      <td>NaN</td>\n",
       "      <td>NaN</td>\n",
       "      <td>480</td>\n",
       "      <td>3</td>\n",
       "      <td>2235</td>\n",
       "      <td>6</td>\n",
       "      <td>3</td>\n",
       "      <td>3</td>\n",
       "      <td>NaN</td>\n",
       "      <td>3</td>\n",
       "    </tr>\n",
       "    <tr>\n",
       "      <th>top</th>\n",
       "      <td>2022-07-06</td>\n",
       "      <td>NaN</td>\n",
       "      <td>NaN</td>\n",
       "      <td>NaN</td>\n",
       "      <td>1 out of 2</td>\n",
       "      <td>Super Area</td>\n",
       "      <td>Bandra West</td>\n",
       "      <td>Mumbai</td>\n",
       "      <td>Semi-Furnished</td>\n",
       "      <td>Bachelors/Family</td>\n",
       "      <td>NaN</td>\n",
       "      <td>Contact Owner</td>\n",
       "    </tr>\n",
       "    <tr>\n",
       "      <th>freq</th>\n",
       "      <td>311</td>\n",
       "      <td>NaN</td>\n",
       "      <td>NaN</td>\n",
       "      <td>NaN</td>\n",
       "      <td>379</td>\n",
       "      <td>2446</td>\n",
       "      <td>37</td>\n",
       "      <td>972</td>\n",
       "      <td>2251</td>\n",
       "      <td>3444</td>\n",
       "      <td>NaN</td>\n",
       "      <td>3216</td>\n",
       "    </tr>\n",
       "    <tr>\n",
       "      <th>mean</th>\n",
       "      <td>NaN</td>\n",
       "      <td>2.083860</td>\n",
       "      <td>3.499345e+04</td>\n",
       "      <td>967.490729</td>\n",
       "      <td>NaN</td>\n",
       "      <td>NaN</td>\n",
       "      <td>NaN</td>\n",
       "      <td>NaN</td>\n",
       "      <td>NaN</td>\n",
       "      <td>NaN</td>\n",
       "      <td>1.965866</td>\n",
       "      <td>NaN</td>\n",
       "    </tr>\n",
       "    <tr>\n",
       "      <th>std</th>\n",
       "      <td>NaN</td>\n",
       "      <td>0.832256</td>\n",
       "      <td>7.810641e+04</td>\n",
       "      <td>634.202328</td>\n",
       "      <td>NaN</td>\n",
       "      <td>NaN</td>\n",
       "      <td>NaN</td>\n",
       "      <td>NaN</td>\n",
       "      <td>NaN</td>\n",
       "      <td>NaN</td>\n",
       "      <td>0.884532</td>\n",
       "      <td>NaN</td>\n",
       "    </tr>\n",
       "    <tr>\n",
       "      <th>min</th>\n",
       "      <td>NaN</td>\n",
       "      <td>1.000000</td>\n",
       "      <td>1.200000e+03</td>\n",
       "      <td>10.000000</td>\n",
       "      <td>NaN</td>\n",
       "      <td>NaN</td>\n",
       "      <td>NaN</td>\n",
       "      <td>NaN</td>\n",
       "      <td>NaN</td>\n",
       "      <td>NaN</td>\n",
       "      <td>1.000000</td>\n",
       "      <td>NaN</td>\n",
       "    </tr>\n",
       "    <tr>\n",
       "      <th>25%</th>\n",
       "      <td>NaN</td>\n",
       "      <td>2.000000</td>\n",
       "      <td>1.000000e+04</td>\n",
       "      <td>550.000000</td>\n",
       "      <td>NaN</td>\n",
       "      <td>NaN</td>\n",
       "      <td>NaN</td>\n",
       "      <td>NaN</td>\n",
       "      <td>NaN</td>\n",
       "      <td>NaN</td>\n",
       "      <td>1.000000</td>\n",
       "      <td>NaN</td>\n",
       "    </tr>\n",
       "    <tr>\n",
       "      <th>50%</th>\n",
       "      <td>NaN</td>\n",
       "      <td>2.000000</td>\n",
       "      <td>1.600000e+04</td>\n",
       "      <td>850.000000</td>\n",
       "      <td>NaN</td>\n",
       "      <td>NaN</td>\n",
       "      <td>NaN</td>\n",
       "      <td>NaN</td>\n",
       "      <td>NaN</td>\n",
       "      <td>NaN</td>\n",
       "      <td>2.000000</td>\n",
       "      <td>NaN</td>\n",
       "    </tr>\n",
       "    <tr>\n",
       "      <th>75%</th>\n",
       "      <td>NaN</td>\n",
       "      <td>3.000000</td>\n",
       "      <td>3.300000e+04</td>\n",
       "      <td>1200.000000</td>\n",
       "      <td>NaN</td>\n",
       "      <td>NaN</td>\n",
       "      <td>NaN</td>\n",
       "      <td>NaN</td>\n",
       "      <td>NaN</td>\n",
       "      <td>NaN</td>\n",
       "      <td>2.000000</td>\n",
       "      <td>NaN</td>\n",
       "    </tr>\n",
       "    <tr>\n",
       "      <th>max</th>\n",
       "      <td>NaN</td>\n",
       "      <td>6.000000</td>\n",
       "      <td>3.500000e+06</td>\n",
       "      <td>8000.000000</td>\n",
       "      <td>NaN</td>\n",
       "      <td>NaN</td>\n",
       "      <td>NaN</td>\n",
       "      <td>NaN</td>\n",
       "      <td>NaN</td>\n",
       "      <td>NaN</td>\n",
       "      <td>10.000000</td>\n",
       "      <td>NaN</td>\n",
       "    </tr>\n",
       "  </tbody>\n",
       "</table>\n",
       "</div>"
      ],
      "text/plain": [
       "         Posted On          BHK          Rent         Size       Floor  \\\n",
       "count         4746  4746.000000  4.746000e+03  4746.000000        4746   \n",
       "unique          81          NaN           NaN          NaN         480   \n",
       "top     2022-07-06          NaN           NaN          NaN  1 out of 2   \n",
       "freq           311          NaN           NaN          NaN         379   \n",
       "mean           NaN     2.083860  3.499345e+04   967.490729         NaN   \n",
       "std            NaN     0.832256  7.810641e+04   634.202328         NaN   \n",
       "min            NaN     1.000000  1.200000e+03    10.000000         NaN   \n",
       "25%            NaN     2.000000  1.000000e+04   550.000000         NaN   \n",
       "50%            NaN     2.000000  1.600000e+04   850.000000         NaN   \n",
       "75%            NaN     3.000000  3.300000e+04  1200.000000         NaN   \n",
       "max            NaN     6.000000  3.500000e+06  8000.000000         NaN   \n",
       "\n",
       "         Area Type Area Locality    City Furnishing Status  Tenant Preferred  \\\n",
       "count         4746          4746    4746              4746              4746   \n",
       "unique           3          2235       6                 3                 3   \n",
       "top     Super Area   Bandra West  Mumbai    Semi-Furnished  Bachelors/Family   \n",
       "freq          2446            37     972              2251              3444   \n",
       "mean           NaN           NaN     NaN               NaN               NaN   \n",
       "std            NaN           NaN     NaN               NaN               NaN   \n",
       "min            NaN           NaN     NaN               NaN               NaN   \n",
       "25%            NaN           NaN     NaN               NaN               NaN   \n",
       "50%            NaN           NaN     NaN               NaN               NaN   \n",
       "75%            NaN           NaN     NaN               NaN               NaN   \n",
       "max            NaN           NaN     NaN               NaN               NaN   \n",
       "\n",
       "           Bathroom Point Of Contact  \n",
       "count   4746.000000             4746  \n",
       "unique          NaN                3  \n",
       "top             NaN    Contact Owner  \n",
       "freq            NaN             3216  \n",
       "mean       1.965866              NaN  \n",
       "std        0.884532              NaN  \n",
       "min        1.000000              NaN  \n",
       "25%        1.000000              NaN  \n",
       "50%        2.000000              NaN  \n",
       "75%        2.000000              NaN  \n",
       "max       10.000000              NaN  "
      ]
     },
     "execution_count": 5,
     "metadata": {},
     "output_type": "execute_result"
    }
   ],
   "source": [
    "# show statistical summary of all variables\n",
    "dt.describe(include=\"all\")"
   ]
  },
  {
   "cell_type": "markdown",
   "id": "87f87fc3-52f6-4773-a075-9fe7715c8961",
   "metadata": {},
   "source": [
    "#### select columns BHK and Rent"
   ]
  },
  {
   "cell_type": "code",
   "execution_count": 6,
   "id": "3bb374c2-7f33-4c53-9f9b-f7a4c3123c8f",
   "metadata": {},
   "outputs": [
    {
     "data": {
      "text/html": [
       "<div>\n",
       "<style scoped>\n",
       "    .dataframe tbody tr th:only-of-type {\n",
       "        vertical-align: middle;\n",
       "    }\n",
       "\n",
       "    .dataframe tbody tr th {\n",
       "        vertical-align: top;\n",
       "    }\n",
       "\n",
       "    .dataframe thead th {\n",
       "        text-align: right;\n",
       "    }\n",
       "</style>\n",
       "<table border=\"1\" class=\"dataframe\">\n",
       "  <thead>\n",
       "    <tr style=\"text-align: right;\">\n",
       "      <th></th>\n",
       "      <th>BHK</th>\n",
       "      <th>Rent</th>\n",
       "    </tr>\n",
       "  </thead>\n",
       "  <tbody>\n",
       "    <tr>\n",
       "      <th>count</th>\n",
       "      <td>4746.000000</td>\n",
       "      <td>4.746000e+03</td>\n",
       "    </tr>\n",
       "    <tr>\n",
       "      <th>mean</th>\n",
       "      <td>2.083860</td>\n",
       "      <td>3.499345e+04</td>\n",
       "    </tr>\n",
       "    <tr>\n",
       "      <th>std</th>\n",
       "      <td>0.832256</td>\n",
       "      <td>7.810641e+04</td>\n",
       "    </tr>\n",
       "    <tr>\n",
       "      <th>min</th>\n",
       "      <td>1.000000</td>\n",
       "      <td>1.200000e+03</td>\n",
       "    </tr>\n",
       "    <tr>\n",
       "      <th>25%</th>\n",
       "      <td>2.000000</td>\n",
       "      <td>1.000000e+04</td>\n",
       "    </tr>\n",
       "    <tr>\n",
       "      <th>50%</th>\n",
       "      <td>2.000000</td>\n",
       "      <td>1.600000e+04</td>\n",
       "    </tr>\n",
       "    <tr>\n",
       "      <th>75%</th>\n",
       "      <td>3.000000</td>\n",
       "      <td>3.300000e+04</td>\n",
       "    </tr>\n",
       "    <tr>\n",
       "      <th>max</th>\n",
       "      <td>6.000000</td>\n",
       "      <td>3.500000e+06</td>\n",
       "    </tr>\n",
       "  </tbody>\n",
       "</table>\n",
       "</div>"
      ],
      "text/plain": [
       "               BHK          Rent\n",
       "count  4746.000000  4.746000e+03\n",
       "mean      2.083860  3.499345e+04\n",
       "std       0.832256  7.810641e+04\n",
       "min       1.000000  1.200000e+03\n",
       "25%       2.000000  1.000000e+04\n",
       "50%       2.000000  1.600000e+04\n",
       "75%       3.000000  3.300000e+04\n",
       "max       6.000000  3.500000e+06"
      ]
     },
     "execution_count": 6,
     "metadata": {},
     "output_type": "execute_result"
    }
   ],
   "source": [
    "dt[[\"BHK\",\"Rent\"]].describe()"
   ]
  },
  {
   "cell_type": "markdown",
   "id": "118f007a-24d7-40f4-9b1b-a60aa67970c6",
   "metadata": {},
   "source": [
    "#### Info\n",
    "another method to check for summary"
   ]
  },
  {
   "cell_type": "code",
   "execution_count": 7,
   "id": "c908086a-e451-41da-8419-62f7939f02ef",
   "metadata": {},
   "outputs": [
    {
     "name": "stdout",
     "output_type": "stream",
     "text": [
      "<class 'pandas.core.frame.DataFrame'>\n",
      "RangeIndex: 4746 entries, 0 to 4745\n",
      "Data columns (total 12 columns):\n",
      " #   Column             Non-Null Count  Dtype \n",
      "---  ------             --------------  ----- \n",
      " 0   Posted On          4746 non-null   object\n",
      " 1   BHK                4746 non-null   int64 \n",
      " 2   Rent               4746 non-null   int64 \n",
      " 3   Size               4746 non-null   int64 \n",
      " 4   Floor              4746 non-null   object\n",
      " 5   Area Type          4746 non-null   object\n",
      " 6   Area Locality      4746 non-null   object\n",
      " 7   City               4746 non-null   object\n",
      " 8   Furnishing Status  4746 non-null   object\n",
      " 9   Tenant Preferred   4746 non-null   object\n",
      " 10  Bathroom           4746 non-null   int64 \n",
      " 11  Point Of Contact   4746 non-null   object\n",
      "dtypes: int64(4), object(8)\n",
      "memory usage: 445.1+ KB\n"
     ]
    }
   ],
   "source": [
    "dt.info()"
   ]
  },
  {
   "cell_type": "markdown",
   "id": "af2e7bb3-add6-45e0-a796-01bb0b3561a0",
   "metadata": {},
   "source": [
    "#### Evaluating for missing data"
   ]
  },
  {
   "cell_type": "code",
   "execution_count": 8,
   "id": "3200d26c-8052-4f0f-bbff-59daa0b00f5d",
   "metadata": {},
   "outputs": [
    {
     "data": {
      "text/html": [
       "<div>\n",
       "<style scoped>\n",
       "    .dataframe tbody tr th:only-of-type {\n",
       "        vertical-align: middle;\n",
       "    }\n",
       "\n",
       "    .dataframe tbody tr th {\n",
       "        vertical-align: top;\n",
       "    }\n",
       "\n",
       "    .dataframe thead th {\n",
       "        text-align: right;\n",
       "    }\n",
       "</style>\n",
       "<table border=\"1\" class=\"dataframe\">\n",
       "  <thead>\n",
       "    <tr style=\"text-align: right;\">\n",
       "      <th></th>\n",
       "      <th>Posted On</th>\n",
       "      <th>BHK</th>\n",
       "      <th>Rent</th>\n",
       "      <th>Size</th>\n",
       "      <th>Floor</th>\n",
       "      <th>Area Type</th>\n",
       "      <th>Area Locality</th>\n",
       "      <th>City</th>\n",
       "      <th>Furnishing Status</th>\n",
       "      <th>Tenant Preferred</th>\n",
       "      <th>Bathroom</th>\n",
       "      <th>Point Of Contact</th>\n",
       "    </tr>\n",
       "  </thead>\n",
       "  <tbody>\n",
       "    <tr>\n",
       "      <th>0</th>\n",
       "      <td>False</td>\n",
       "      <td>False</td>\n",
       "      <td>False</td>\n",
       "      <td>False</td>\n",
       "      <td>False</td>\n",
       "      <td>False</td>\n",
       "      <td>False</td>\n",
       "      <td>False</td>\n",
       "      <td>False</td>\n",
       "      <td>False</td>\n",
       "      <td>False</td>\n",
       "      <td>False</td>\n",
       "    </tr>\n",
       "    <tr>\n",
       "      <th>1</th>\n",
       "      <td>False</td>\n",
       "      <td>False</td>\n",
       "      <td>False</td>\n",
       "      <td>False</td>\n",
       "      <td>False</td>\n",
       "      <td>False</td>\n",
       "      <td>False</td>\n",
       "      <td>False</td>\n",
       "      <td>False</td>\n",
       "      <td>False</td>\n",
       "      <td>False</td>\n",
       "      <td>False</td>\n",
       "    </tr>\n",
       "    <tr>\n",
       "      <th>2</th>\n",
       "      <td>False</td>\n",
       "      <td>False</td>\n",
       "      <td>False</td>\n",
       "      <td>False</td>\n",
       "      <td>False</td>\n",
       "      <td>False</td>\n",
       "      <td>False</td>\n",
       "      <td>False</td>\n",
       "      <td>False</td>\n",
       "      <td>False</td>\n",
       "      <td>False</td>\n",
       "      <td>False</td>\n",
       "    </tr>\n",
       "    <tr>\n",
       "      <th>3</th>\n",
       "      <td>False</td>\n",
       "      <td>False</td>\n",
       "      <td>False</td>\n",
       "      <td>False</td>\n",
       "      <td>False</td>\n",
       "      <td>False</td>\n",
       "      <td>False</td>\n",
       "      <td>False</td>\n",
       "      <td>False</td>\n",
       "      <td>False</td>\n",
       "      <td>False</td>\n",
       "      <td>False</td>\n",
       "    </tr>\n",
       "    <tr>\n",
       "      <th>4</th>\n",
       "      <td>False</td>\n",
       "      <td>False</td>\n",
       "      <td>False</td>\n",
       "      <td>False</td>\n",
       "      <td>False</td>\n",
       "      <td>False</td>\n",
       "      <td>False</td>\n",
       "      <td>False</td>\n",
       "      <td>False</td>\n",
       "      <td>False</td>\n",
       "      <td>False</td>\n",
       "      <td>False</td>\n",
       "    </tr>\n",
       "  </tbody>\n",
       "</table>\n",
       "</div>"
      ],
      "text/plain": [
       "   Posted On    BHK   Rent   Size  Floor  Area Type  Area Locality   City  \\\n",
       "0      False  False  False  False  False      False          False  False   \n",
       "1      False  False  False  False  False      False          False  False   \n",
       "2      False  False  False  False  False      False          False  False   \n",
       "3      False  False  False  False  False      False          False  False   \n",
       "4      False  False  False  False  False      False          False  False   \n",
       "\n",
       "   Furnishing Status  Tenant Preferred  Bathroom  Point Of Contact  \n",
       "0              False             False     False             False  \n",
       "1              False             False     False             False  \n",
       "2              False             False     False             False  \n",
       "3              False             False     False             False  \n",
       "4              False             False     False             False  "
      ]
     },
     "execution_count": 8,
     "metadata": {},
     "output_type": "execute_result"
    }
   ],
   "source": [
    "missing_data = dt.isnull()\n",
    "missing_data.head(5)"
   ]
  },
  {
   "cell_type": "markdown",
   "id": "20742721-b1c9-498a-b6a3-99c4242f25dc",
   "metadata": {},
   "source": [
    "True means value is missing <br>\n",
    "False means value is not missing"
   ]
  },
  {
   "cell_type": "markdown",
   "id": "89df5409-78de-4b15-acc6-fb1862dbf5fa",
   "metadata": {},
   "source": [
    "#### Count missing values for each column"
   ]
  },
  {
   "cell_type": "code",
   "execution_count": 9,
   "id": "a35fd12e-5559-4567-9a3c-71b72059ec41",
   "metadata": {},
   "outputs": [
    {
     "name": "stdout",
     "output_type": "stream",
     "text": [
      "Posted On\n",
      "False    4746\n",
      "Name: count, dtype: int64\n",
      "\n",
      "BHK\n",
      "False    4746\n",
      "Name: count, dtype: int64\n",
      "\n",
      "Rent\n",
      "False    4746\n",
      "Name: count, dtype: int64\n",
      "\n",
      "Size\n",
      "False    4746\n",
      "Name: count, dtype: int64\n",
      "\n",
      "Floor\n",
      "False    4746\n",
      "Name: count, dtype: int64\n",
      "\n",
      "Area Type\n",
      "False    4746\n",
      "Name: count, dtype: int64\n",
      "\n",
      "Area Locality\n",
      "False    4746\n",
      "Name: count, dtype: int64\n",
      "\n",
      "City\n",
      "False    4746\n",
      "Name: count, dtype: int64\n",
      "\n",
      "Furnishing Status\n",
      "False    4746\n",
      "Name: count, dtype: int64\n",
      "\n",
      "Tenant Preferred\n",
      "False    4746\n",
      "Name: count, dtype: int64\n",
      "\n",
      "Bathroom\n",
      "False    4746\n",
      "Name: count, dtype: int64\n",
      "\n",
      "Point Of Contact\n",
      "False    4746\n",
      "Name: count, dtype: int64\n",
      "\n"
     ]
    }
   ],
   "source": [
    "for column in missing_data.columns.values.tolist():\n",
    "    # print(column)\n",
    "    print(missing_data[column].value_counts())\n",
    "    print()"
   ]
  },
  {
   "cell_type": "markdown",
   "id": "758b973f-19bf-4b35-a66b-01829d76bc77",
   "metadata": {},
   "source": [
    "Based on summary above, none of the columns have missing data <br>\n",
    "the count of \"False\" in each column is 4746 and there are \"True\" values in any column"
   ]
  },
  {
   "cell_type": "markdown",
   "id": "557149d1-9a69-4f16-9432-a9c301031303",
   "metadata": {},
   "source": [
    "#### deal with missing values\n",
    "for numeric variables - replace with mean <br>\n",
    "for categorical variables - replace with frequency <br>\n",
    "if any data is missing in response variable (Rent) , drop those entire rows <br>"
   ]
  },
  {
   "cell_type": "markdown",
   "id": "f26590b7-958c-4748-b7f1-0c4542fc60e9",
   "metadata": {},
   "source": [
    "#### missing values in 'BHK'"
   ]
  },
  {
   "cell_type": "code",
   "execution_count": 10,
   "id": "7f054db5-2c09-4966-9ee5-7f2d8d830af5",
   "metadata": {},
   "outputs": [
    {
     "name": "stdout",
     "output_type": "stream",
     "text": [
      "average of BHK :  2.08\n"
     ]
    }
   ],
   "source": [
    "avg_BHK = dt[\"BHK\"].astype(\"int\").mean(axis=0)\n",
    "print(\"average of BHK : \",round(avg_BHK,2))"
   ]
  },
  {
   "cell_type": "code",
   "execution_count": 11,
   "id": "0733a541-442e-4e5e-baa9-d7ce29db8410",
   "metadata": {},
   "outputs": [],
   "source": [
    "dt[\"BHK\"].replace(np.nan,avg_BHK,inplace=True)"
   ]
  },
  {
   "cell_type": "markdown",
   "id": "365e95cb-8c66-405e-91ed-dfdc90835e85",
   "metadata": {},
   "source": [
    "#### missing values in 'Size'"
   ]
  },
  {
   "cell_type": "code",
   "execution_count": 12,
   "id": "263b70de-6612-4bd4-a2c1-0ee8e7a3f37f",
   "metadata": {},
   "outputs": [
    {
     "name": "stdout",
     "output_type": "stream",
     "text": [
      "average of size :  967.49\n"
     ]
    }
   ],
   "source": [
    "avg_size = dt[\"Size\"].astype(\"int\").mean(axis=0)\n",
    "print(\"average of size : \",round(avg_size,2))"
   ]
  },
  {
   "cell_type": "code",
   "execution_count": 13,
   "id": "5a096d27-f32f-4c27-8463-0e5fd1dcb436",
   "metadata": {},
   "outputs": [],
   "source": [
    "dt[\"Size\"].replace(np.nan,avg_size,inplace=True)"
   ]
  },
  {
   "cell_type": "markdown",
   "id": "34b903c9-1e02-4fa5-b32a-198a0ba14c45",
   "metadata": {},
   "source": [
    "#### missing values in 'Floor'"
   ]
  },
  {
   "cell_type": "code",
   "execution_count": 14,
   "id": "9e3e5fe8-3f42-4b4b-a9df-ba860d855d7b",
   "metadata": {},
   "outputs": [
    {
     "data": {
      "text/plain": [
       "Floor\n",
       "1 out of 2         379\n",
       "Ground out of 2    350\n",
       "2 out of 3         312\n",
       "2 out of 4         308\n",
       "1 out of 3         293\n",
       "                  ... \n",
       "11 out of 31         1\n",
       "50 out of 75         1\n",
       "18 out of 26         1\n",
       "12 out of 27         1\n",
       "23 out of 34         1\n",
       "Name: count, Length: 480, dtype: int64"
      ]
     },
     "execution_count": 14,
     "metadata": {},
     "output_type": "execute_result"
    }
   ],
   "source": [
    "dt[\"Floor\"].value_counts()"
   ]
  },
  {
   "cell_type": "code",
   "execution_count": 15,
   "id": "fae5e4ec-2e8e-4a8d-b920-1973302a950e",
   "metadata": {},
   "outputs": [
    {
     "data": {
      "text/plain": [
       "'1 out of 2'"
      ]
     },
     "execution_count": 15,
     "metadata": {},
     "output_type": "execute_result"
    }
   ],
   "source": [
    "dt[\"Floor\"].value_counts().idxmax()"
   ]
  },
  {
   "cell_type": "code",
   "execution_count": 16,
   "id": "48298a5c-42f5-4dd5-addc-5ae554399842",
   "metadata": {},
   "outputs": [],
   "source": [
    "dt[\"Floor\"].replace(np.nan,'1 out of 2',inplace=True)"
   ]
  },
  {
   "cell_type": "markdown",
   "id": "3a21da1c-052c-4ccf-95bd-fe6b05dcd206",
   "metadata": {},
   "source": [
    "#### missing values in 'Area Type'"
   ]
  },
  {
   "cell_type": "code",
   "execution_count": 17,
   "id": "b43f601f-8126-4e8b-8fbf-a661b7490f26",
   "metadata": {},
   "outputs": [
    {
     "data": {
      "text/plain": [
       "'Super Area'"
      ]
     },
     "execution_count": 17,
     "metadata": {},
     "output_type": "execute_result"
    }
   ],
   "source": [
    "dt[\"Area Type\"].value_counts().idxmax()"
   ]
  },
  {
   "cell_type": "code",
   "execution_count": 18,
   "id": "75a81004-ce9f-473e-99b5-58eea312b1d0",
   "metadata": {},
   "outputs": [],
   "source": [
    "dt[\"Area Type\"].replace(np.nan,'Super Area',inplace=True)"
   ]
  },
  {
   "cell_type": "markdown",
   "id": "d0b375df-ef34-4cfa-af58-59967af7efcf",
   "metadata": {},
   "source": [
    "#### dropping rows that do not have 'Rent' data"
   ]
  },
  {
   "cell_type": "code",
   "execution_count": 19,
   "id": "5036beb6-601d-46b3-8055-8771250cfe02",
   "metadata": {},
   "outputs": [],
   "source": [
    "dt.dropna(subset=['Rent'],axis=0,inplace=True)"
   ]
  },
  {
   "cell_type": "code",
   "execution_count": 20,
   "id": "20425654-13ee-412e-8096-cbca7ee20d15",
   "metadata": {},
   "outputs": [],
   "source": [
    "# reset index cause we dropped two rows\n",
    "dt.reset_index(drop=True,inplace=True)"
   ]
  },
  {
   "cell_type": "code",
   "execution_count": 21,
   "id": "2ab95253-03b7-469d-8b67-f83bc64cd816",
   "metadata": {},
   "outputs": [
    {
     "data": {
      "text/html": [
       "<div>\n",
       "<style scoped>\n",
       "    .dataframe tbody tr th:only-of-type {\n",
       "        vertical-align: middle;\n",
       "    }\n",
       "\n",
       "    .dataframe tbody tr th {\n",
       "        vertical-align: top;\n",
       "    }\n",
       "\n",
       "    .dataframe thead th {\n",
       "        text-align: right;\n",
       "    }\n",
       "</style>\n",
       "<table border=\"1\" class=\"dataframe\">\n",
       "  <thead>\n",
       "    <tr style=\"text-align: right;\">\n",
       "      <th></th>\n",
       "      <th>Posted On</th>\n",
       "      <th>BHK</th>\n",
       "      <th>Rent</th>\n",
       "      <th>Size</th>\n",
       "      <th>Floor</th>\n",
       "      <th>Area Type</th>\n",
       "      <th>Area Locality</th>\n",
       "      <th>City</th>\n",
       "      <th>Furnishing Status</th>\n",
       "      <th>Tenant Preferred</th>\n",
       "      <th>Bathroom</th>\n",
       "      <th>Point Of Contact</th>\n",
       "    </tr>\n",
       "  </thead>\n",
       "  <tbody>\n",
       "    <tr>\n",
       "      <th>0</th>\n",
       "      <td>2022-05-18</td>\n",
       "      <td>2</td>\n",
       "      <td>10000</td>\n",
       "      <td>1100</td>\n",
       "      <td>Ground out of 2</td>\n",
       "      <td>Super Area</td>\n",
       "      <td>Bandel</td>\n",
       "      <td>Kolkata</td>\n",
       "      <td>Unfurnished</td>\n",
       "      <td>Bachelors/Family</td>\n",
       "      <td>2</td>\n",
       "      <td>Contact Owner</td>\n",
       "    </tr>\n",
       "    <tr>\n",
       "      <th>1</th>\n",
       "      <td>2022-05-13</td>\n",
       "      <td>2</td>\n",
       "      <td>20000</td>\n",
       "      <td>800</td>\n",
       "      <td>1 out of 3</td>\n",
       "      <td>Super Area</td>\n",
       "      <td>Phool Bagan, Kankurgachi</td>\n",
       "      <td>Kolkata</td>\n",
       "      <td>Semi-Furnished</td>\n",
       "      <td>Bachelors/Family</td>\n",
       "      <td>1</td>\n",
       "      <td>Contact Owner</td>\n",
       "    </tr>\n",
       "    <tr>\n",
       "      <th>2</th>\n",
       "      <td>2022-05-16</td>\n",
       "      <td>2</td>\n",
       "      <td>17000</td>\n",
       "      <td>1000</td>\n",
       "      <td>1 out of 3</td>\n",
       "      <td>Super Area</td>\n",
       "      <td>Salt Lake City Sector 2</td>\n",
       "      <td>Kolkata</td>\n",
       "      <td>Semi-Furnished</td>\n",
       "      <td>Bachelors/Family</td>\n",
       "      <td>1</td>\n",
       "      <td>Contact Owner</td>\n",
       "    </tr>\n",
       "    <tr>\n",
       "      <th>3</th>\n",
       "      <td>2022-07-04</td>\n",
       "      <td>2</td>\n",
       "      <td>10000</td>\n",
       "      <td>800</td>\n",
       "      <td>1 out of 2</td>\n",
       "      <td>Super Area</td>\n",
       "      <td>Dumdum Park</td>\n",
       "      <td>Kolkata</td>\n",
       "      <td>Unfurnished</td>\n",
       "      <td>Bachelors/Family</td>\n",
       "      <td>1</td>\n",
       "      <td>Contact Owner</td>\n",
       "    </tr>\n",
       "    <tr>\n",
       "      <th>4</th>\n",
       "      <td>2022-05-09</td>\n",
       "      <td>2</td>\n",
       "      <td>7500</td>\n",
       "      <td>850</td>\n",
       "      <td>1 out of 2</td>\n",
       "      <td>Carpet Area</td>\n",
       "      <td>South Dum Dum</td>\n",
       "      <td>Kolkata</td>\n",
       "      <td>Unfurnished</td>\n",
       "      <td>Bachelors</td>\n",
       "      <td>1</td>\n",
       "      <td>Contact Owner</td>\n",
       "    </tr>\n",
       "    <tr>\n",
       "      <th>...</th>\n",
       "      <td>...</td>\n",
       "      <td>...</td>\n",
       "      <td>...</td>\n",
       "      <td>...</td>\n",
       "      <td>...</td>\n",
       "      <td>...</td>\n",
       "      <td>...</td>\n",
       "      <td>...</td>\n",
       "      <td>...</td>\n",
       "      <td>...</td>\n",
       "      <td>...</td>\n",
       "      <td>...</td>\n",
       "    </tr>\n",
       "    <tr>\n",
       "      <th>4741</th>\n",
       "      <td>2022-05-18</td>\n",
       "      <td>2</td>\n",
       "      <td>15000</td>\n",
       "      <td>1000</td>\n",
       "      <td>3 out of 5</td>\n",
       "      <td>Carpet Area</td>\n",
       "      <td>Bandam Kommu</td>\n",
       "      <td>Hyderabad</td>\n",
       "      <td>Semi-Furnished</td>\n",
       "      <td>Bachelors/Family</td>\n",
       "      <td>2</td>\n",
       "      <td>Contact Owner</td>\n",
       "    </tr>\n",
       "    <tr>\n",
       "      <th>4742</th>\n",
       "      <td>2022-05-15</td>\n",
       "      <td>3</td>\n",
       "      <td>29000</td>\n",
       "      <td>2000</td>\n",
       "      <td>1 out of 4</td>\n",
       "      <td>Super Area</td>\n",
       "      <td>Manikonda, Hyderabad</td>\n",
       "      <td>Hyderabad</td>\n",
       "      <td>Semi-Furnished</td>\n",
       "      <td>Bachelors/Family</td>\n",
       "      <td>3</td>\n",
       "      <td>Contact Owner</td>\n",
       "    </tr>\n",
       "    <tr>\n",
       "      <th>4743</th>\n",
       "      <td>2022-07-10</td>\n",
       "      <td>3</td>\n",
       "      <td>35000</td>\n",
       "      <td>1750</td>\n",
       "      <td>3 out of 5</td>\n",
       "      <td>Carpet Area</td>\n",
       "      <td>Himayath Nagar, NH 7</td>\n",
       "      <td>Hyderabad</td>\n",
       "      <td>Semi-Furnished</td>\n",
       "      <td>Bachelors/Family</td>\n",
       "      <td>3</td>\n",
       "      <td>Contact Agent</td>\n",
       "    </tr>\n",
       "    <tr>\n",
       "      <th>4744</th>\n",
       "      <td>2022-07-06</td>\n",
       "      <td>3</td>\n",
       "      <td>45000</td>\n",
       "      <td>1500</td>\n",
       "      <td>23 out of 34</td>\n",
       "      <td>Carpet Area</td>\n",
       "      <td>Gachibowli</td>\n",
       "      <td>Hyderabad</td>\n",
       "      <td>Semi-Furnished</td>\n",
       "      <td>Family</td>\n",
       "      <td>2</td>\n",
       "      <td>Contact Agent</td>\n",
       "    </tr>\n",
       "    <tr>\n",
       "      <th>4745</th>\n",
       "      <td>2022-05-04</td>\n",
       "      <td>2</td>\n",
       "      <td>15000</td>\n",
       "      <td>1000</td>\n",
       "      <td>4 out of 5</td>\n",
       "      <td>Carpet Area</td>\n",
       "      <td>Suchitra Circle</td>\n",
       "      <td>Hyderabad</td>\n",
       "      <td>Unfurnished</td>\n",
       "      <td>Bachelors</td>\n",
       "      <td>2</td>\n",
       "      <td>Contact Owner</td>\n",
       "    </tr>\n",
       "  </tbody>\n",
       "</table>\n",
       "<p>4746 rows × 12 columns</p>\n",
       "</div>"
      ],
      "text/plain": [
       "       Posted On  BHK   Rent  Size            Floor    Area Type  \\\n",
       "0     2022-05-18    2  10000  1100  Ground out of 2   Super Area   \n",
       "1     2022-05-13    2  20000   800       1 out of 3   Super Area   \n",
       "2     2022-05-16    2  17000  1000       1 out of 3   Super Area   \n",
       "3     2022-07-04    2  10000   800       1 out of 2   Super Area   \n",
       "4     2022-05-09    2   7500   850       1 out of 2  Carpet Area   \n",
       "...          ...  ...    ...   ...              ...          ...   \n",
       "4741  2022-05-18    2  15000  1000       3 out of 5  Carpet Area   \n",
       "4742  2022-05-15    3  29000  2000       1 out of 4   Super Area   \n",
       "4743  2022-07-10    3  35000  1750       3 out of 5  Carpet Area   \n",
       "4744  2022-07-06    3  45000  1500     23 out of 34  Carpet Area   \n",
       "4745  2022-05-04    2  15000  1000       4 out of 5  Carpet Area   \n",
       "\n",
       "                 Area Locality       City Furnishing Status  Tenant Preferred  \\\n",
       "0                       Bandel    Kolkata       Unfurnished  Bachelors/Family   \n",
       "1     Phool Bagan, Kankurgachi    Kolkata    Semi-Furnished  Bachelors/Family   \n",
       "2      Salt Lake City Sector 2    Kolkata    Semi-Furnished  Bachelors/Family   \n",
       "3                  Dumdum Park    Kolkata       Unfurnished  Bachelors/Family   \n",
       "4                South Dum Dum    Kolkata       Unfurnished         Bachelors   \n",
       "...                        ...        ...               ...               ...   \n",
       "4741              Bandam Kommu  Hyderabad    Semi-Furnished  Bachelors/Family   \n",
       "4742      Manikonda, Hyderabad  Hyderabad    Semi-Furnished  Bachelors/Family   \n",
       "4743      Himayath Nagar, NH 7  Hyderabad    Semi-Furnished  Bachelors/Family   \n",
       "4744                Gachibowli  Hyderabad    Semi-Furnished            Family   \n",
       "4745           Suchitra Circle  Hyderabad       Unfurnished         Bachelors   \n",
       "\n",
       "      Bathroom Point Of Contact  \n",
       "0            2    Contact Owner  \n",
       "1            1    Contact Owner  \n",
       "2            1    Contact Owner  \n",
       "3            1    Contact Owner  \n",
       "4            1    Contact Owner  \n",
       "...        ...              ...  \n",
       "4741         2    Contact Owner  \n",
       "4742         3    Contact Owner  \n",
       "4743         3    Contact Agent  \n",
       "4744         2    Contact Agent  \n",
       "4745         2    Contact Owner  \n",
       "\n",
       "[4746 rows x 12 columns]"
      ]
     },
     "execution_count": 21,
     "metadata": {},
     "output_type": "execute_result"
    }
   ],
   "source": [
    "dt"
   ]
  },
  {
   "cell_type": "markdown",
   "id": "2fe503f1-a5bd-426d-89d9-d75ff58f0933",
   "metadata": {},
   "source": [
    "#### correct data format"
   ]
  },
  {
   "cell_type": "markdown",
   "id": "fc87e8e5-2933-4496-b67c-1c78fa8be07c",
   "metadata": {},
   "source": [
    ".dtypes to check data types <br>\n",
    ".astype() to change data types"
   ]
  },
  {
   "cell_type": "code",
   "execution_count": 22,
   "id": "3df30da6-69f6-4047-a835-f21d56284b33",
   "metadata": {},
   "outputs": [
    {
     "data": {
      "text/plain": [
       "Posted On            object\n",
       "BHK                   int64\n",
       "Rent                  int64\n",
       "Size                  int64\n",
       "Floor                object\n",
       "Area Type            object\n",
       "Area Locality        object\n",
       "City                 object\n",
       "Furnishing Status    object\n",
       "Tenant Preferred     object\n",
       "Bathroom              int64\n",
       "Point Of Contact     object\n",
       "dtype: object"
      ]
     },
     "execution_count": 22,
     "metadata": {},
     "output_type": "execute_result"
    }
   ],
   "source": [
    "dt.dtypes"
   ]
  },
  {
   "cell_type": "code",
   "execution_count": 23,
   "id": "f3846b02-4375-46a7-9a73-12a952fc86c4",
   "metadata": {},
   "outputs": [],
   "source": [
    "dt[\"Rent\"] = dt[\"Rent\"].astype(\"float\")\n",
    "dt[[\"BHK\",\"Size\"]] = dt[[\"BHK\",\"Size\"]].astype(\"int\")\n",
    "dt[[\"Point Of Contact\",\"Area Locality\",\"City\"]] = dt[[\"Point Of Contact\",\"Area Locality\",\"City\"]].astype(\"object\")\n",
    "dt[\"Posted On\"] = pd.to_datetime(dt[\"Posted On\"])"
   ]
  },
  {
   "cell_type": "code",
   "execution_count": 24,
   "id": "e845b8d3-02ba-4154-a1b3-50aa89610510",
   "metadata": {},
   "outputs": [
    {
     "data": {
      "text/plain": [
       "Posted On            datetime64[ns]\n",
       "BHK                           int64\n",
       "Rent                        float64\n",
       "Size                          int64\n",
       "Floor                        object\n",
       "Area Type                    object\n",
       "Area Locality                object\n",
       "City                         object\n",
       "Furnishing Status            object\n",
       "Tenant Preferred             object\n",
       "Bathroom                      int64\n",
       "Point Of Contact             object\n",
       "dtype: object"
      ]
     },
     "execution_count": 24,
     "metadata": {},
     "output_type": "execute_result"
    }
   ],
   "source": [
    "dt.dtypes"
   ]
  },
  {
   "cell_type": "code",
   "execution_count": 25,
   "id": "bfd91272-a288-4619-b26e-065a481b3199",
   "metadata": {},
   "outputs": [
    {
     "data": {
      "text/html": [
       "<div>\n",
       "<style scoped>\n",
       "    .dataframe tbody tr th:only-of-type {\n",
       "        vertical-align: middle;\n",
       "    }\n",
       "\n",
       "    .dataframe tbody tr th {\n",
       "        vertical-align: top;\n",
       "    }\n",
       "\n",
       "    .dataframe thead th {\n",
       "        text-align: right;\n",
       "    }\n",
       "</style>\n",
       "<table border=\"1\" class=\"dataframe\">\n",
       "  <thead>\n",
       "    <tr style=\"text-align: right;\">\n",
       "      <th></th>\n",
       "      <th>Posted On</th>\n",
       "      <th>BHK</th>\n",
       "      <th>Rent</th>\n",
       "      <th>Size</th>\n",
       "      <th>Floor</th>\n",
       "      <th>Area Type</th>\n",
       "      <th>Area Locality</th>\n",
       "      <th>City</th>\n",
       "      <th>Furnishing Status</th>\n",
       "      <th>Tenant Preferred</th>\n",
       "      <th>Bathroom</th>\n",
       "      <th>Point Of Contact</th>\n",
       "    </tr>\n",
       "  </thead>\n",
       "  <tbody>\n",
       "    <tr>\n",
       "      <th>0</th>\n",
       "      <td>2022-05-18</td>\n",
       "      <td>2</td>\n",
       "      <td>10000.0</td>\n",
       "      <td>1100</td>\n",
       "      <td>Ground out of 2</td>\n",
       "      <td>Super Area</td>\n",
       "      <td>Bandel</td>\n",
       "      <td>Kolkata</td>\n",
       "      <td>Unfurnished</td>\n",
       "      <td>Bachelors/Family</td>\n",
       "      <td>2</td>\n",
       "      <td>Contact Owner</td>\n",
       "    </tr>\n",
       "    <tr>\n",
       "      <th>1</th>\n",
       "      <td>2022-05-13</td>\n",
       "      <td>2</td>\n",
       "      <td>20000.0</td>\n",
       "      <td>800</td>\n",
       "      <td>1 out of 3</td>\n",
       "      <td>Super Area</td>\n",
       "      <td>Phool Bagan, Kankurgachi</td>\n",
       "      <td>Kolkata</td>\n",
       "      <td>Semi-Furnished</td>\n",
       "      <td>Bachelors/Family</td>\n",
       "      <td>1</td>\n",
       "      <td>Contact Owner</td>\n",
       "    </tr>\n",
       "    <tr>\n",
       "      <th>2</th>\n",
       "      <td>2022-05-16</td>\n",
       "      <td>2</td>\n",
       "      <td>17000.0</td>\n",
       "      <td>1000</td>\n",
       "      <td>1 out of 3</td>\n",
       "      <td>Super Area</td>\n",
       "      <td>Salt Lake City Sector 2</td>\n",
       "      <td>Kolkata</td>\n",
       "      <td>Semi-Furnished</td>\n",
       "      <td>Bachelors/Family</td>\n",
       "      <td>1</td>\n",
       "      <td>Contact Owner</td>\n",
       "    </tr>\n",
       "    <tr>\n",
       "      <th>3</th>\n",
       "      <td>2022-07-04</td>\n",
       "      <td>2</td>\n",
       "      <td>10000.0</td>\n",
       "      <td>800</td>\n",
       "      <td>1 out of 2</td>\n",
       "      <td>Super Area</td>\n",
       "      <td>Dumdum Park</td>\n",
       "      <td>Kolkata</td>\n",
       "      <td>Unfurnished</td>\n",
       "      <td>Bachelors/Family</td>\n",
       "      <td>1</td>\n",
       "      <td>Contact Owner</td>\n",
       "    </tr>\n",
       "    <tr>\n",
       "      <th>4</th>\n",
       "      <td>2022-05-09</td>\n",
       "      <td>2</td>\n",
       "      <td>7500.0</td>\n",
       "      <td>850</td>\n",
       "      <td>1 out of 2</td>\n",
       "      <td>Carpet Area</td>\n",
       "      <td>South Dum Dum</td>\n",
       "      <td>Kolkata</td>\n",
       "      <td>Unfurnished</td>\n",
       "      <td>Bachelors</td>\n",
       "      <td>1</td>\n",
       "      <td>Contact Owner</td>\n",
       "    </tr>\n",
       "  </tbody>\n",
       "</table>\n",
       "</div>"
      ],
      "text/plain": [
       "   Posted On  BHK     Rent  Size            Floor    Area Type  \\\n",
       "0 2022-05-18    2  10000.0  1100  Ground out of 2   Super Area   \n",
       "1 2022-05-13    2  20000.0   800       1 out of 3   Super Area   \n",
       "2 2022-05-16    2  17000.0  1000       1 out of 3   Super Area   \n",
       "3 2022-07-04    2  10000.0   800       1 out of 2   Super Area   \n",
       "4 2022-05-09    2   7500.0   850       1 out of 2  Carpet Area   \n",
       "\n",
       "              Area Locality     City Furnishing Status  Tenant Preferred  \\\n",
       "0                    Bandel  Kolkata       Unfurnished  Bachelors/Family   \n",
       "1  Phool Bagan, Kankurgachi  Kolkata    Semi-Furnished  Bachelors/Family   \n",
       "2   Salt Lake City Sector 2  Kolkata    Semi-Furnished  Bachelors/Family   \n",
       "3               Dumdum Park  Kolkata       Unfurnished  Bachelors/Family   \n",
       "4             South Dum Dum  Kolkata       Unfurnished         Bachelors   \n",
       "\n",
       "   Bathroom Point Of Contact  \n",
       "0         2    Contact Owner  \n",
       "1         1    Contact Owner  \n",
       "2         1    Contact Owner  \n",
       "3         1    Contact Owner  \n",
       "4         1    Contact Owner  "
      ]
     },
     "execution_count": 25,
     "metadata": {},
     "output_type": "execute_result"
    }
   ],
   "source": [
    "dt.head()"
   ]
  },
  {
   "cell_type": "markdown",
   "id": "e01d5246-947a-4d1a-8e6c-23f498d85de7",
   "metadata": {},
   "source": [
    "#### Data Standardization\n",
    "converting data to a common format <br>\n",
    "here in this dataset , all variables are in correct format <br>\n",
    "we assume 'Rent' is represented in terms of Rupees <br>\n",
    "and 'Size' is in terms of square feet <br>\n",
    "all other variables are mostly categorical (object)"
   ]
  },
  {
   "cell_type": "markdown",
   "id": "dafaac19-bd14-4742-99bf-2123abfd77c3",
   "metadata": {},
   "source": [
    "#### Data Normalization\n",
    "bringing variable values in the range [0,1] <br>\n",
    "to have mean 0 and/or variance 1 or variance varies b/w 0 to 1 <br>\n",
    "let us try normalizing 'Size' variable"
   ]
  },
  {
   "cell_type": "code",
   "execution_count": 26,
   "id": "183e76f1-d767-4e65-916c-7c0f366542e5",
   "metadata": {},
   "outputs": [
    {
     "data": {
      "text/html": [
       "<div>\n",
       "<style scoped>\n",
       "    .dataframe tbody tr th:only-of-type {\n",
       "        vertical-align: middle;\n",
       "    }\n",
       "\n",
       "    .dataframe tbody tr th {\n",
       "        vertical-align: top;\n",
       "    }\n",
       "\n",
       "    .dataframe thead th {\n",
       "        text-align: right;\n",
       "    }\n",
       "</style>\n",
       "<table border=\"1\" class=\"dataframe\">\n",
       "  <thead>\n",
       "    <tr style=\"text-align: right;\">\n",
       "      <th></th>\n",
       "      <th>Posted On</th>\n",
       "      <th>BHK</th>\n",
       "      <th>Rent</th>\n",
       "      <th>Size</th>\n",
       "      <th>Floor</th>\n",
       "      <th>Area Type</th>\n",
       "      <th>Area Locality</th>\n",
       "      <th>City</th>\n",
       "      <th>Furnishing Status</th>\n",
       "      <th>Tenant Preferred</th>\n",
       "      <th>Bathroom</th>\n",
       "      <th>Point Of Contact</th>\n",
       "    </tr>\n",
       "  </thead>\n",
       "  <tbody>\n",
       "    <tr>\n",
       "      <th>0</th>\n",
       "      <td>2022-05-18</td>\n",
       "      <td>2</td>\n",
       "      <td>10000.0</td>\n",
       "      <td>0.13750</td>\n",
       "      <td>Ground out of 2</td>\n",
       "      <td>Super Area</td>\n",
       "      <td>Bandel</td>\n",
       "      <td>Kolkata</td>\n",
       "      <td>Unfurnished</td>\n",
       "      <td>Bachelors/Family</td>\n",
       "      <td>2</td>\n",
       "      <td>Contact Owner</td>\n",
       "    </tr>\n",
       "    <tr>\n",
       "      <th>1</th>\n",
       "      <td>2022-05-13</td>\n",
       "      <td>2</td>\n",
       "      <td>20000.0</td>\n",
       "      <td>0.10000</td>\n",
       "      <td>1 out of 3</td>\n",
       "      <td>Super Area</td>\n",
       "      <td>Phool Bagan, Kankurgachi</td>\n",
       "      <td>Kolkata</td>\n",
       "      <td>Semi-Furnished</td>\n",
       "      <td>Bachelors/Family</td>\n",
       "      <td>1</td>\n",
       "      <td>Contact Owner</td>\n",
       "    </tr>\n",
       "    <tr>\n",
       "      <th>2</th>\n",
       "      <td>2022-05-16</td>\n",
       "      <td>2</td>\n",
       "      <td>17000.0</td>\n",
       "      <td>0.12500</td>\n",
       "      <td>1 out of 3</td>\n",
       "      <td>Super Area</td>\n",
       "      <td>Salt Lake City Sector 2</td>\n",
       "      <td>Kolkata</td>\n",
       "      <td>Semi-Furnished</td>\n",
       "      <td>Bachelors/Family</td>\n",
       "      <td>1</td>\n",
       "      <td>Contact Owner</td>\n",
       "    </tr>\n",
       "    <tr>\n",
       "      <th>3</th>\n",
       "      <td>2022-07-04</td>\n",
       "      <td>2</td>\n",
       "      <td>10000.0</td>\n",
       "      <td>0.10000</td>\n",
       "      <td>1 out of 2</td>\n",
       "      <td>Super Area</td>\n",
       "      <td>Dumdum Park</td>\n",
       "      <td>Kolkata</td>\n",
       "      <td>Unfurnished</td>\n",
       "      <td>Bachelors/Family</td>\n",
       "      <td>1</td>\n",
       "      <td>Contact Owner</td>\n",
       "    </tr>\n",
       "    <tr>\n",
       "      <th>4</th>\n",
       "      <td>2022-05-09</td>\n",
       "      <td>2</td>\n",
       "      <td>7500.0</td>\n",
       "      <td>0.10625</td>\n",
       "      <td>1 out of 2</td>\n",
       "      <td>Carpet Area</td>\n",
       "      <td>South Dum Dum</td>\n",
       "      <td>Kolkata</td>\n",
       "      <td>Unfurnished</td>\n",
       "      <td>Bachelors</td>\n",
       "      <td>1</td>\n",
       "      <td>Contact Owner</td>\n",
       "    </tr>\n",
       "  </tbody>\n",
       "</table>\n",
       "</div>"
      ],
      "text/plain": [
       "   Posted On  BHK     Rent     Size            Floor    Area Type  \\\n",
       "0 2022-05-18    2  10000.0  0.13750  Ground out of 2   Super Area   \n",
       "1 2022-05-13    2  20000.0  0.10000       1 out of 3   Super Area   \n",
       "2 2022-05-16    2  17000.0  0.12500       1 out of 3   Super Area   \n",
       "3 2022-07-04    2  10000.0  0.10000       1 out of 2   Super Area   \n",
       "4 2022-05-09    2   7500.0  0.10625       1 out of 2  Carpet Area   \n",
       "\n",
       "              Area Locality     City Furnishing Status  Tenant Preferred  \\\n",
       "0                    Bandel  Kolkata       Unfurnished  Bachelors/Family   \n",
       "1  Phool Bagan, Kankurgachi  Kolkata    Semi-Furnished  Bachelors/Family   \n",
       "2   Salt Lake City Sector 2  Kolkata    Semi-Furnished  Bachelors/Family   \n",
       "3               Dumdum Park  Kolkata       Unfurnished  Bachelors/Family   \n",
       "4             South Dum Dum  Kolkata       Unfurnished         Bachelors   \n",
       "\n",
       "   Bathroom Point Of Contact  \n",
       "0         2    Contact Owner  \n",
       "1         1    Contact Owner  \n",
       "2         1    Contact Owner  \n",
       "3         1    Contact Owner  \n",
       "4         1    Contact Owner  "
      ]
     },
     "execution_count": 26,
     "metadata": {},
     "output_type": "execute_result"
    }
   ],
   "source": [
    "dt1 = dt.copy()\n",
    "dt1[\"Size\"] = dt1[\"Size\"]/dt1[\"Size\"].max()\n",
    "dt1.head()"
   ]
  },
  {
   "cell_type": "code",
   "execution_count": 27,
   "id": "e307cf92-39ec-495f-ab70-1f37fe4e07f4",
   "metadata": {},
   "outputs": [
    {
     "data": {
      "text/plain": [
       "count    4746.000000\n",
       "mean        0.120936\n",
       "std         0.079275\n",
       "min         0.001250\n",
       "25%         0.068750\n",
       "50%         0.106250\n",
       "75%         0.150000\n",
       "max         1.000000\n",
       "Name: Size, dtype: float64"
      ]
     },
     "execution_count": 27,
     "metadata": {},
     "output_type": "execute_result"
    }
   ],
   "source": [
    "dt1[\"Size\"].describe()"
   ]
  },
  {
   "cell_type": "markdown",
   "id": "7a6ee366-6911-409c-ab1b-c0172aaa0b16",
   "metadata": {},
   "source": [
    "#### Binning\n",
    "converting continuous variable to categorical variables <br>\n",
    "by dividing them into bins"
   ]
  },
  {
   "cell_type": "code",
   "execution_count": 28,
   "id": "f2865128-6734-44f4-a336-70a303e6c68d",
   "metadata": {},
   "outputs": [
    {
     "data": {
      "text/plain": [
       "615"
      ]
     },
     "execution_count": 28,
     "metadata": {},
     "output_type": "execute_result"
    }
   ],
   "source": [
    "dt[\"Size\"].value_counts().size"
   ]
  },
  {
   "cell_type": "code",
   "execution_count": 29,
   "id": "c1f7e25c-c724-43cc-a6b7-f46ec885d311",
   "metadata": {},
   "outputs": [
    {
     "data": {
      "text/html": [
       "<div>\n",
       "<style scoped>\n",
       "    .dataframe tbody tr th:only-of-type {\n",
       "        vertical-align: middle;\n",
       "    }\n",
       "\n",
       "    .dataframe tbody tr th {\n",
       "        vertical-align: top;\n",
       "    }\n",
       "\n",
       "    .dataframe thead th {\n",
       "        text-align: right;\n",
       "    }\n",
       "</style>\n",
       "<table border=\"1\" class=\"dataframe\">\n",
       "  <thead>\n",
       "    <tr style=\"text-align: right;\">\n",
       "      <th></th>\n",
       "      <th>Posted On</th>\n",
       "      <th>BHK</th>\n",
       "      <th>Rent</th>\n",
       "      <th>Size</th>\n",
       "      <th>Floor</th>\n",
       "      <th>Area Type</th>\n",
       "      <th>Area Locality</th>\n",
       "      <th>City</th>\n",
       "      <th>Furnishing Status</th>\n",
       "      <th>Tenant Preferred</th>\n",
       "      <th>Bathroom</th>\n",
       "      <th>Point Of Contact</th>\n",
       "    </tr>\n",
       "  </thead>\n",
       "  <tbody>\n",
       "    <tr>\n",
       "      <th>0</th>\n",
       "      <td>2022-05-18</td>\n",
       "      <td>2</td>\n",
       "      <td>10000.0</td>\n",
       "      <td>1100</td>\n",
       "      <td>Ground out of 2</td>\n",
       "      <td>Super Area</td>\n",
       "      <td>Bandel</td>\n",
       "      <td>Kolkata</td>\n",
       "      <td>Unfurnished</td>\n",
       "      <td>Bachelors/Family</td>\n",
       "      <td>2</td>\n",
       "      <td>Contact Owner</td>\n",
       "    </tr>\n",
       "    <tr>\n",
       "      <th>1</th>\n",
       "      <td>2022-05-13</td>\n",
       "      <td>2</td>\n",
       "      <td>20000.0</td>\n",
       "      <td>800</td>\n",
       "      <td>1 out of 3</td>\n",
       "      <td>Super Area</td>\n",
       "      <td>Phool Bagan, Kankurgachi</td>\n",
       "      <td>Kolkata</td>\n",
       "      <td>Semi-Furnished</td>\n",
       "      <td>Bachelors/Family</td>\n",
       "      <td>1</td>\n",
       "      <td>Contact Owner</td>\n",
       "    </tr>\n",
       "    <tr>\n",
       "      <th>2</th>\n",
       "      <td>2022-05-16</td>\n",
       "      <td>2</td>\n",
       "      <td>17000.0</td>\n",
       "      <td>1000</td>\n",
       "      <td>1 out of 3</td>\n",
       "      <td>Super Area</td>\n",
       "      <td>Salt Lake City Sector 2</td>\n",
       "      <td>Kolkata</td>\n",
       "      <td>Semi-Furnished</td>\n",
       "      <td>Bachelors/Family</td>\n",
       "      <td>1</td>\n",
       "      <td>Contact Owner</td>\n",
       "    </tr>\n",
       "    <tr>\n",
       "      <th>3</th>\n",
       "      <td>2022-07-04</td>\n",
       "      <td>2</td>\n",
       "      <td>10000.0</td>\n",
       "      <td>800</td>\n",
       "      <td>1 out of 2</td>\n",
       "      <td>Super Area</td>\n",
       "      <td>Dumdum Park</td>\n",
       "      <td>Kolkata</td>\n",
       "      <td>Unfurnished</td>\n",
       "      <td>Bachelors/Family</td>\n",
       "      <td>1</td>\n",
       "      <td>Contact Owner</td>\n",
       "    </tr>\n",
       "    <tr>\n",
       "      <th>4</th>\n",
       "      <td>2022-05-09</td>\n",
       "      <td>2</td>\n",
       "      <td>7500.0</td>\n",
       "      <td>850</td>\n",
       "      <td>1 out of 2</td>\n",
       "      <td>Carpet Area</td>\n",
       "      <td>South Dum Dum</td>\n",
       "      <td>Kolkata</td>\n",
       "      <td>Unfurnished</td>\n",
       "      <td>Bachelors</td>\n",
       "      <td>1</td>\n",
       "      <td>Contact Owner</td>\n",
       "    </tr>\n",
       "  </tbody>\n",
       "</table>\n",
       "</div>"
      ],
      "text/plain": [
       "   Posted On  BHK     Rent  Size            Floor    Area Type  \\\n",
       "0 2022-05-18    2  10000.0  1100  Ground out of 2   Super Area   \n",
       "1 2022-05-13    2  20000.0   800       1 out of 3   Super Area   \n",
       "2 2022-05-16    2  17000.0  1000       1 out of 3   Super Area   \n",
       "3 2022-07-04    2  10000.0   800       1 out of 2   Super Area   \n",
       "4 2022-05-09    2   7500.0   850       1 out of 2  Carpet Area   \n",
       "\n",
       "              Area Locality     City Furnishing Status  Tenant Preferred  \\\n",
       "0                    Bandel  Kolkata       Unfurnished  Bachelors/Family   \n",
       "1  Phool Bagan, Kankurgachi  Kolkata    Semi-Furnished  Bachelors/Family   \n",
       "2   Salt Lake City Sector 2  Kolkata    Semi-Furnished  Bachelors/Family   \n",
       "3               Dumdum Park  Kolkata       Unfurnished  Bachelors/Family   \n",
       "4             South Dum Dum  Kolkata       Unfurnished         Bachelors   \n",
       "\n",
       "   Bathroom Point Of Contact  \n",
       "0         2    Contact Owner  \n",
       "1         1    Contact Owner  \n",
       "2         1    Contact Owner  \n",
       "3         1    Contact Owner  \n",
       "4         1    Contact Owner  "
      ]
     },
     "execution_count": 29,
     "metadata": {},
     "output_type": "execute_result"
    }
   ],
   "source": [
    "dt.head()"
   ]
  },
  {
   "cell_type": "code",
   "execution_count": 30,
   "id": "234f2234-4d20-4732-9129-cb98e2e059bd",
   "metadata": {},
   "outputs": [
    {
     "data": {
      "text/plain": [
       "Text(0.5, 1.0, 'flat size bins')"
      ]
     },
     "execution_count": 30,
     "metadata": {},
     "output_type": "execute_result"
    },
    {
     "data": {
      "image/png": "[encoded data removed]",
      "text/plain": [
       "<Figure size 640x480 with 1 Axes>"
      ]
     },
     "metadata": {},
     "output_type": "display_data"
    }
   ],
   "source": [
    "%matplotlib inline\n",
    "plt.hist(dt[\"Size\"])\n",
    "plt.xlabel(\"Size of flat (square feet)\")\n",
    "plt.ylabel(\"frequency\")\n",
    "plt.title(\"flat size bins\")"
   ]
  },
  {
   "cell_type": "code",
   "execution_count": 31,
   "id": "1ff2c10d-0acb-4d11-9437-63de3c7de0f7",
   "metadata": {},
   "outputs": [
    {
     "data": {
      "text/plain": [
       "array([  10.        , 2673.33333333, 5336.66666667, 8000.        ])"
      ]
     },
     "execution_count": 31,
     "metadata": {},
     "output_type": "execute_result"
    }
   ],
   "source": [
    "bins = np.linspace(min(dt[\"Size\"]),max(dt[\"Size\"]),4)\n",
    "bins"
   ]
  },
  {
   "cell_type": "code",
   "execution_count": 32,
   "id": "c73772d6-70b7-4bbe-af71-2d27d702c783",
   "metadata": {},
   "outputs": [
    {
     "data": {
      "text/plain": [
       "['Small', 'Compact', 'Large']"
      ]
     },
     "execution_count": 32,
     "metadata": {},
     "output_type": "execute_result"
    }
   ],
   "source": [
    "group_names = [\"Small\",\"Compact\",\"Large\"]\n",
    "group_names"
   ]
  },
  {
   "cell_type": "code",
   "execution_count": 33,
   "id": "5cf28a91-b7ae-4d30-a7d3-8a75b6b37598",
   "metadata": {},
   "outputs": [
    {
     "data": {
      "text/html": [
       "<div>\n",
       "<style scoped>\n",
       "    .dataframe tbody tr th:only-of-type {\n",
       "        vertical-align: middle;\n",
       "    }\n",
       "\n",
       "    .dataframe tbody tr th {\n",
       "        vertical-align: top;\n",
       "    }\n",
       "\n",
       "    .dataframe thead th {\n",
       "        text-align: right;\n",
       "    }\n",
       "</style>\n",
       "<table border=\"1\" class=\"dataframe\">\n",
       "  <thead>\n",
       "    <tr style=\"text-align: right;\">\n",
       "      <th></th>\n",
       "      <th>Size</th>\n",
       "      <th>Size-binned</th>\n",
       "    </tr>\n",
       "  </thead>\n",
       "  <tbody>\n",
       "    <tr>\n",
       "      <th>0</th>\n",
       "      <td>1100</td>\n",
       "      <td>Small</td>\n",
       "    </tr>\n",
       "    <tr>\n",
       "      <th>1</th>\n",
       "      <td>800</td>\n",
       "      <td>Small</td>\n",
       "    </tr>\n",
       "    <tr>\n",
       "      <th>2</th>\n",
       "      <td>1000</td>\n",
       "      <td>Small</td>\n",
       "    </tr>\n",
       "    <tr>\n",
       "      <th>3</th>\n",
       "      <td>800</td>\n",
       "      <td>Small</td>\n",
       "    </tr>\n",
       "    <tr>\n",
       "      <th>4</th>\n",
       "      <td>850</td>\n",
       "      <td>Small</td>\n",
       "    </tr>\n",
       "  </tbody>\n",
       "</table>\n",
       "</div>"
      ],
      "text/plain": [
       "   Size Size-binned\n",
       "0  1100       Small\n",
       "1   800       Small\n",
       "2  1000       Small\n",
       "3   800       Small\n",
       "4   850       Small"
      ]
     },
     "execution_count": 33,
     "metadata": {},
     "output_type": "execute_result"
    }
   ],
   "source": [
    "dt[\"Size-binned\"] = pd.cut(dt[\"Size\"],bins,labels=group_names,include_lowest=True)\n",
    "dt[[\"Size\",\"Size-binned\"]].head()"
   ]
  },
  {
   "cell_type": "code",
   "execution_count": 34,
   "id": "6dc0f86a-5b62-4047-a8f4-111933c17551",
   "metadata": {},
   "outputs": [
    {
     "data": {
      "text/plain": [
       "Size-binned\n",
       "Small      4629\n",
       "Compact     113\n",
       "Large         4\n",
       "Name: count, dtype: int64"
      ]
     },
     "execution_count": 34,
     "metadata": {},
     "output_type": "execute_result"
    }
   ],
   "source": [
    "dt[\"Size-binned\"].value_counts()"
   ]
  },
  {
   "cell_type": "code",
   "execution_count": 35,
   "id": "919821f4-5216-486d-94fe-aa4bc9537a8d",
   "metadata": {},
   "outputs": [
    {
     "data": {
      "text/plain": [
       "Text(0.5, 1.0, 'Flat size binned')"
      ]
     },
     "execution_count": 35,
     "metadata": {},
     "output_type": "execute_result"
    },
    {
     "data": {
      "image/png": "[encoded data removed]",
      "text/plain": [
       "<Figure size 640x480 with 1 Axes>"
      ]
     },
     "metadata": {},
     "output_type": "display_data"
    }
   ],
   "source": [
    "%matplotlib inline\n",
    "plt.bar(group_names,dt[\"Size-binned\"].value_counts())\n",
    "plt.xlabel(\"Flat sizes\")\n",
    "plt.ylabel(\"Frequencies\")\n",
    "plt.title(\"Flat size binned\")"
   ]
  },
  {
   "cell_type": "code",
   "execution_count": 36,
   "id": "e1bc3561-6f1d-4c43-9b16-cce05add36b6",
   "metadata": {},
   "outputs": [
    {
     "data": {
      "text/plain": [
       "Text(0.5, 1.0, 'Flat size binned')"
      ]
     },
     "execution_count": 36,
     "metadata": {},
     "output_type": "execute_result"
    },
    {
     "data": {
      "image/png": "[encoded data removed]",
      "text/plain": [
       "<Figure size 640x480 with 1 Axes>"
      ]
     },
     "metadata": {},
     "output_type": "display_data"
    }
   ],
   "source": [
    "%matplotlib inline\n",
    "plt.hist(dt[\"Size-binned\"],bins=3)\n",
    "plt.xlabel(\"Flat sizes\")\n",
    "plt.ylabel(\"Frequencies\")\n",
    "plt.title(\"Flat size binned\")"
   ]
  },
  {
   "cell_type": "markdown",
   "id": "458835f8-bb22-46be-8e4a-90286c3141a7",
   "metadata": {},
   "source": [
    "Binning variable \"Rent\""
   ]
  },
  {
   "cell_type": "code",
   "execution_count": 37,
   "id": "aaf44a44-dc44-45ae-b379-386da3dde129",
   "metadata": {},
   "outputs": [
    {
     "data": {
      "image/png": "[encoded data removed]",
      "text/plain": [
       "<Figure size 640x480 with 1 Axes>"
      ]
     },
     "metadata": {},
     "output_type": "display_data"
    }
   ],
   "source": [
    "%matplotlib inline\n",
    "fig,ax = plt.subplots(1,1)\n",
    "ax.hist(dt[\"Rent\"])\n",
    "ax.set_title(\"Rent amount not binned\")\n",
    "ax.set_ylabel(\"frequency\")\n",
    "ax.set_xlabel(\"Rent Amount in rupees\")\n",
    "plt.show()"
   ]
  },
  {
   "cell_type": "markdown",
   "id": "a18e25f8-0a8c-4fe4-abcf-f2ee1ef89a0c",
   "metadata": {},
   "source": [
    "Note that too many values are packed into one category. Therefore in such situations we use logscale on y-axis to make\n",
    "the chart more representative of the data."
   ]
  },
  {
   "cell_type": "code",
   "execution_count": 38,
   "id": "ad20dfb9-8c09-489d-bed5-a694acb815f7",
   "metadata": {},
   "outputs": [
    {
     "data": {
      "image/png": "[encoded data removed]",
      "text/plain": [
       "<Figure size 640x480 with 1 Axes>"
      ]
     },
     "metadata": {},
     "output_type": "display_data"
    }
   ],
   "source": [
    "%matplotlib inline\n",
    "fig,ax = plt.subplots(1,1)\n",
    "ax.hist(dt[\"Rent\"])\n",
    "ax.set_title(\"Rent amount not binned\")\n",
    "ax.set_ylabel(\"frequency\")\n",
    "ax.set_xlabel(\"Rent Amount in rupees\")\n",
    "plt.semilogy()\n",
    "plt.show()"
   ]
  },
  {
   "cell_type": "code",
   "execution_count": 39,
   "id": "f0d48058-cb5f-48ea-8d72-5120a2499461",
   "metadata": {},
   "outputs": [
    {
     "name": "stdout",
     "output_type": "stream",
     "text": [
      "<class 'numpy.ndarray'>\n"
     ]
    },
    {
     "data": {
      "text/plain": [
       "[1200.0, 1167466.67, 2333733.33, 3500000.0]"
      ]
     },
     "execution_count": 39,
     "metadata": {},
     "output_type": "execute_result"
    }
   ],
   "source": [
    "bins1 = np.linspace(min(dt[\"Rent\"]),max(dt[\"Rent\"]),4)\n",
    "np.set_printoptions(suppress=True)\n",
    "print(type(bins1))\n",
    "[round(i,2) for i in bins1]"
   ]
  },
  {
   "cell_type": "code",
   "execution_count": 40,
   "id": "a0d50098-2d86-4a07-b806-f25751e81b37",
   "metadata": {},
   "outputs": [
    {
     "data": {
      "text/plain": [
       "numpy.ndarray"
      ]
     },
     "execution_count": 40,
     "metadata": {},
     "output_type": "execute_result"
    }
   ],
   "source": [
    "bins1 = np.array([1200.0,20000.0,60000.0,1167466.67,2333733.33,3500000.0])\n",
    "type(bins1)"
   ]
  },
  {
   "cell_type": "code",
   "execution_count": 41,
   "id": "53ecb759-5242-4ee3-80c7-a118fbabe567",
   "metadata": {},
   "outputs": [
    {
     "data": {
      "text/plain": [
       "['small', 'compact', 'compact-medium', 'high', 'premium']"
      ]
     },
     "execution_count": 41,
     "metadata": {},
     "output_type": "execute_result"
    }
   ],
   "source": [
    "group_names1 = [\"small\",\"compact\",\"compact-medium\",\"high\",\"premium\"]\n",
    "group_names1"
   ]
  },
  {
   "cell_type": "code",
   "execution_count": 42,
   "id": "37d22fe1-3ce7-4fe0-837d-e04412564ea2",
   "metadata": {},
   "outputs": [
    {
     "data": {
      "text/plain": [
       "Rent-binned\n",
       "small             2907\n",
       "compact           1262\n",
       "compact-medium     575\n",
       "high                 1\n",
       "premium              1\n",
       "Name: count, dtype: int64"
      ]
     },
     "execution_count": 42,
     "metadata": {},
     "output_type": "execute_result"
    }
   ],
   "source": [
    "dt[\"Rent-binned\"] = pd.cut(dt[\"Rent\"],bins1,labels=group_names1,include_lowest=True)\n",
    "dt[\"Rent-binned\"].value_counts()"
   ]
  },
  {
   "cell_type": "code",
   "execution_count": 43,
   "id": "c75b9378-c2eb-484f-9e68-4667858b9020",
   "metadata": {},
   "outputs": [
    {
     "data": {
      "image/png": "[encoded data removed]",
      "text/plain": [
       "<Figure size 1500x600 with 1 Axes>"
      ]
     },
     "metadata": {},
     "output_type": "display_data"
    }
   ],
   "source": [
    "%matplotlib inline\n",
    "fig,ax = plt.subplots(1,1,figsize=(15,6))\n",
    "ax.bar(group_names1,dt[\"Rent-binned\"].value_counts())\n",
    "ax.set_title(\"Rent amount binned\")\n",
    "ax.set_ylabel(\"frequency\")\n",
    "ax.set_xlabel(\"Rent Groups\")\n",
    "plt.semilogy()\n",
    "plt.show()"
   ]
  },
  {
   "cell_type": "markdown",
   "id": "256a0dd1-eed1-492e-93a1-d7037c25599d",
   "metadata": {},
   "source": [
    "#### Indicator variables / dummy variables"
   ]
  },
  {
   "cell_type": "code",
   "execution_count": 51,
   "id": "d43c3da1-14b5-430e-b4a6-ae3e175fd869",
   "metadata": {},
   "outputs": [
    {
     "data": {
      "text/plain": [
       "[2907, 1262, 575, 1, 1]"
      ]
     },
     "execution_count": 51,
     "metadata": {},
     "output_type": "execute_result"
    }
   ],
   "source": [
    "dt[\"Rent-binned\"].value_counts().values.tolist()"
   ]
  },
  {
   "cell_type": "code",
   "execution_count": 59,
   "id": "174fedd0-c1b5-4a49-bfab-ac592756c469",
   "metadata": {},
   "outputs": [
    {
     "data": {
      "application/vnd.plotly.v1+json": {
       "config": {
        "plotlyServerURL": "https://plot.ly"
       },
       "data": [
        {
         "alignmentgroup": "True",
         "hovertemplate": "x=%{x}<br>y=%{y}<extra></extra>",
         "legendgroup": "",
         "marker": {
          "color": "#636efa",
          "pattern": {
           "shape": ""
          }
         },
         "name": "",
         "offsetgroup": "",
         "orientation": "v",
         "showlegend": false,
         "textposition": "auto",
         "type": "bar",
         "x": [
          "small",
          "compact",
          "compact-medium",
          "high",
          "premium"
         ],
         "xaxis": "x",
         "y": [
          2907,
          1262,
          575,
          1,
          1
         ],
         "yaxis": "y"
        }
       ],
       "layout": {
        "autosize": true,
        "barmode": "relative",
        "dragmode": "zoom",
        "legend": {
         "tracegroupgap": 0
        },
        "template": {
         "data": {
          "bar": [
           {
            "error_x": {
             "color": "#2a3f5f"
            },
            "error_y": {
             "color": "#2a3f5f"
            },
            "marker": {
             "line": {
              "color": "#E5ECF6",
              "width": 0.5
             },
             "pattern": {
              "fillmode": "overlay",
              "size": 10,
              "solidity": 0.2
             }
            },
            "type": "bar"
           }
          ],
          "barpolar": [
           {
            "marker": {
             "line": {
              "color": "#E5ECF6",
              "width": 0.5
             },
             "pattern": {
              "fillmode": "overlay",
              "size": 10,
              "solidity": 0.2
             }
            },
            "type": "barpolar"
           }
          ],
          "carpet": [
           {
            "aaxis": {
             "endlinecolor": "#2a3f5f",
             "gridcolor": "white",
             "linecolor": "white",
             "minorgridcolor": "white",
             "startlinecolor": "#2a3f5f"
            },
            "baxis": {
             "endlinecolor": "#2a3f5f",
             "gridcolor": "white",
             "linecolor": "white",
             "minorgridcolor": "white",
             "startlinecolor": "#2a3f5f"
            },
            "type": "carpet"
           }
          ],
          "choropleth": [
           {
            "colorbar": {
             "outlinewidth": 0,
             "ticks": ""
            },
            "type": "choropleth"
           }
          ],
          "contour": [
           {
            "colorbar": {
             "outlinewidth": 0,
             "ticks": ""
            },
            "colorscale": [
             [
              0,
              "#0d0887"
             ],
             [
              0.1111111111111111,
              "#46039f"
             ],
             [
              0.2222222222222222,
              "#7201a8"
             ],
             [
              0.3333333333333333,
              "#9c179e"
             ],
             [
              0.4444444444444444,
              "#bd3786"
             ],
             [
              0.5555555555555556,
              "#d8576b"
             ],
             [
              0.6666666666666666,
              "#ed7953"
             ],
             [
              0.7777777777777778,
              "#fb9f3a"
             ],
             [
              0.8888888888888888,
              "#fdca26"
             ],
             [
              1,
              "#f0f921"
             ]
            ],
            "type": "contour"
           }
          ],
          "contourcarpet": [
           {
            "colorbar": {
             "outlinewidth": 0,
             "ticks": ""
            },
            "type": "contourcarpet"
           }
          ],
          "heatmap": [
           {
            "colorbar": {
             "outlinewidth": 0,
             "ticks": ""
            },
            "colorscale": [
             [
              0,
              "#0d0887"
             ],
             [
              0.1111111111111111,
              "#46039f"
             ],
             [
              0.2222222222222222,
              "#7201a8"
             ],
             [
              0.3333333333333333,
              "#9c179e"
             ],
             [
              0.4444444444444444,
              "#bd3786"
             ],
             [
              0.5555555555555556,
              "#d8576b"
             ],
             [
              0.6666666666666666,
              "#ed7953"
             ],
             [
              0.7777777777777778,
              "#fb9f3a"
             ],
             [
              0.8888888888888888,
              "#fdca26"
             ],
             [
              1,
              "#f0f921"
             ]
            ],
            "type": "heatmap"
           }
          ],
          "heatmapgl": [
           {
            "colorbar": {
             "outlinewidth": 0,
             "ticks": ""
            },
            "colorscale": [
             [
              0,
              "#0d0887"
             ],
             [
              0.1111111111111111,
              "#46039f"
             ],
             [
              0.2222222222222222,
              "#7201a8"
             ],
             [
              0.3333333333333333,
              "#9c179e"
             ],
             [
              0.4444444444444444,
              "#bd3786"
             ],
             [
              0.5555555555555556,
              "#d8576b"
             ],
             [
              0.6666666666666666,
              "#ed7953"
             ],
             [
              0.7777777777777778,
              "#fb9f3a"
             ],
             [
              0.8888888888888888,
              "#fdca26"
             ],
             [
              1,
              "#f0f921"
             ]
            ],
            "type": "heatmapgl"
           }
          ],
          "histogram": [
           {
            "marker": {
             "pattern": {
              "fillmode": "overlay",
              "size": 10,
              "solidity": 0.2
             }
            },
            "type": "histogram"
           }
          ],
          "histogram2d": [
           {
            "colorbar": {
             "outlinewidth": 0,
             "ticks": ""
            },
            "colorscale": [
             [
              0,
              "#0d0887"
             ],
             [
              0.1111111111111111,
              "#46039f"
             ],
             [
              0.2222222222222222,
              "#7201a8"
             ],
             [
              0.3333333333333333,
              "#9c179e"
             ],
             [
              0.4444444444444444,
              "#bd3786"
             ],
             [
              0.5555555555555556,
              "#d8576b"
             ],
             [
              0.6666666666666666,
              "#ed7953"
             ],
             [
              0.7777777777777778,
              "#fb9f3a"
             ],
             [
              0.8888888888888888,
              "#fdca26"
             ],
             [
              1,
              "#f0f921"
             ]
            ],
            "type": "histogram2d"
           }
          ],
          "histogram2dcontour": [
           {
            "colorbar": {
             "outlinewidth": 0,
             "ticks": ""
            },
            "colorscale": [
             [
              0,
              "#0d0887"
             ],
             [
              0.1111111111111111,
              "#46039f"
             ],
             [
              0.2222222222222222,
              "#7201a8"
             ],
             [
              0.3333333333333333,
              "#9c179e"
             ],
             [
              0.4444444444444444,
              "#bd3786"
             ],
             [
              0.5555555555555556,
              "#d8576b"
             ],
             [
              0.6666666666666666,
              "#ed7953"
             ],
             [
              0.7777777777777778,
              "#fb9f3a"
             ],
             [
              0.8888888888888888,
              "#fdca26"
             ],
             [
              1,
              "#f0f921"
             ]
            ],
            "type": "histogram2dcontour"
           }
          ],
          "mesh3d": [
           {
            "colorbar": {
             "outlinewidth": 0,
             "ticks": ""
            },
            "type": "mesh3d"
           }
          ],
          "parcoords": [
           {
            "line": {
             "colorbar": {
              "outlinewidth": 0,
              "ticks": ""
             }
            },
            "type": "parcoords"
           }
          ],
          "pie": [
           {
            "automargin": true,
            "type": "pie"
           }
          ],
          "scatter": [
           {
            "fillpattern": {
             "fillmode": "overlay",
             "size": 10,
             "solidity": 0.2
            },
            "type": "scatter"
           }
          ],
          "scatter3d": [
           {
            "line": {
             "colorbar": {
              "outlinewidth": 0,
              "ticks": ""
             }
            },
            "marker": {
             "colorbar": {
              "outlinewidth": 0,
              "ticks": ""
             }
            },
            "type": "scatter3d"
           }
          ],
          "scattercarpet": [
           {
            "marker": {
             "colorbar": {
              "outlinewidth": 0,
              "ticks": ""
             }
            },
            "type": "scattercarpet"
           }
          ],
          "scattergeo": [
           {
            "marker": {
             "colorbar": {
              "outlinewidth": 0,
              "ticks": ""
             }
            },
            "type": "scattergeo"
           }
          ],
          "scattergl": [
           {
            "marker": {
             "colorbar": {
              "outlinewidth": 0,
              "ticks": ""
             }
            },
            "type": "scattergl"
           }
          ],
          "scattermapbox": [
           {
            "marker": {
             "colorbar": {
              "outlinewidth": 0,
              "ticks": ""
             }
            },
            "type": "scattermapbox"
           }
          ],
          "scatterpolar": [
           {
            "marker": {
             "colorbar": {
              "outlinewidth": 0,
              "ticks": ""
             }
            },
            "type": "scatterpolar"
           }
          ],
          "scatterpolargl": [
           {
            "marker": {
             "colorbar": {
              "outlinewidth": 0,
              "ticks": ""
             }
            },
            "type": "scatterpolargl"
           }
          ],
          "scatterternary": [
           {
            "marker": {
             "colorbar": {
              "outlinewidth": 0,
              "ticks": ""
             }
            },
            "type": "scatterternary"
           }
          ],
          "surface": [
           {
            "colorbar": {
             "outlinewidth": 0,
             "ticks": ""
            },
            "colorscale": [
             [
              0,
              "#0d0887"
             ],
             [
              0.1111111111111111,
              "#46039f"
             ],
             [
              0.2222222222222222,
              "#7201a8"
             ],
             [
              0.3333333333333333,
              "#9c179e"
             ],
             [
              0.4444444444444444,
              "#bd3786"
             ],
             [
              0.5555555555555556,
              "#d8576b"
             ],
             [
              0.6666666666666666,
              "#ed7953"
             ],
             [
              0.7777777777777778,
              "#fb9f3a"
             ],
             [
              0.8888888888888888,
              "#fdca26"
             ],
             [
              1,
              "#f0f921"
             ]
            ],
            "type": "surface"
           }
          ],
          "table": [
           {
            "cells": {
             "fill": {
              "color": "#EBF0F8"
             },
             "line": {
              "color": "white"
             }
            },
            "header": {
             "fill": {
              "color": "#C8D4E3"
             },
             "line": {
              "color": "white"
             }
            },
            "type": "table"
           }
          ]
         },
         "layout": {
          "annotationdefaults": {
           "arrowcolor": "#2a3f5f",
           "arrowhead": 0,
           "arrowwidth": 1
          },
          "autotypenumbers": "strict",
          "coloraxis": {
           "colorbar": {
            "outlinewidth": 0,
            "ticks": ""
           }
          },
          "colorscale": {
           "diverging": [
            [
             0,
             "#8e0152"
            ],
            [
             0.1,
             "#c51b7d"
            ],
            [
             0.2,
             "#de77ae"
            ],
            [
             0.3,
             "#f1b6da"
            ],
            [
             0.4,
             "#fde0ef"
            ],
            [
             0.5,
             "#f7f7f7"
            ],
            [
             0.6,
             "#e6f5d0"
            ],
            [
             0.7,
             "#b8e186"
            ],
            [
             0.8,
             "#7fbc41"
            ],
            [
             0.9,
             "#4d9221"
            ],
            [
             1,
             "#276419"
            ]
           ],
           "sequential": [
            [
             0,
             "#0d0887"
            ],
            [
             0.1111111111111111,
             "#46039f"
            ],
            [
             0.2222222222222222,
             "#7201a8"
            ],
            [
             0.3333333333333333,
             "#9c179e"
            ],
            [
             0.4444444444444444,
             "#bd3786"
            ],
            [
             0.5555555555555556,
             "#d8576b"
            ],
            [
             0.6666666666666666,
             "#ed7953"
            ],
            [
             0.7777777777777778,
             "#fb9f3a"
            ],
            [
             0.8888888888888888,
             "#fdca26"
            ],
            [
             1,
             "#f0f921"
            ]
           ],
           "sequentialminus": [
            [
             0,
             "#0d0887"
            ],
            [
             0.1111111111111111,
             "#46039f"
            ],
            [
             0.2222222222222222,
             "#7201a8"
            ],
            [
             0.3333333333333333,
             "#9c179e"
            ],
            [
             0.4444444444444444,
             "#bd3786"
            ],
            [
             0.5555555555555556,
             "#d8576b"
            ],
            [
             0.6666666666666666,
             "#ed7953"
            ],
            [
             0.7777777777777778,
             "#fb9f3a"
            ],
            [
             0.8888888888888888,
             "#fdca26"
            ],
            [
             1,
             "#f0f921"
            ]
           ]
          },
          "colorway": [
           "#636efa",
           "#EF553B",
           "#00cc96",
           "#ab63fa",
           "#FFA15A",
           "#19d3f3",
           "#FF6692",
           "#B6E880",
           "#FF97FF",
           "#FECB52"
          ],
          "font": {
           "color": "#2a3f5f"
          },
          "geo": {
           "bgcolor": "white",
           "lakecolor": "white",
           "landcolor": "#E5ECF6",
           "showlakes": true,
           "showland": true,
           "subunitcolor": "white"
          },
          "hoverlabel": {
           "align": "left"
          },
          "hovermode": "closest",
          "mapbox": {
           "style": "light"
          },
          "paper_bgcolor": "white",
          "plot_bgcolor": "#E5ECF6",
          "polar": {
           "angularaxis": {
            "gridcolor": "white",
            "linecolor": "white",
            "ticks": ""
           },
           "bgcolor": "#E5ECF6",
           "radialaxis": {
            "gridcolor": "white",
            "linecolor": "white",
            "ticks": ""
           }
          },
          "scene": {
           "xaxis": {
            "backgroundcolor": "#E5ECF6",
            "gridcolor": "white",
            "gridwidth": 2,
            "linecolor": "white",
            "showbackground": true,
            "ticks": "",
            "zerolinecolor": "white"
           },
           "yaxis": {
            "backgroundcolor": "#E5ECF6",
            "gridcolor": "white",
            "gridwidth": 2,
            "linecolor": "white",
            "showbackground": true,
            "ticks": "",
            "zerolinecolor": "white"
           },
           "zaxis": {
            "backgroundcolor": "#E5ECF6",
            "gridcolor": "white",
            "gridwidth": 2,
            "linecolor": "white",
            "showbackground": true,
            "ticks": "",
            "zerolinecolor": "white"
           }
          },
          "shapedefaults": {
           "line": {
            "color": "#2a3f5f"
           }
          },
          "ternary": {
           "aaxis": {
            "gridcolor": "white",
            "linecolor": "white",
            "ticks": ""
           },
           "baxis": {
            "gridcolor": "white",
            "linecolor": "white",
            "ticks": ""
           },
           "bgcolor": "#E5ECF6",
           "caxis": {
            "gridcolor": "white",
            "linecolor": "white",
            "ticks": ""
           }
          },
          "title": {
           "x": 0.05
          },
          "xaxis": {
           "automargin": true,
           "gridcolor": "white",
           "linecolor": "white",
           "ticks": "",
           "title": {
            "standoff": 15
           },
           "zerolinecolor": "white",
           "zerolinewidth": 2
          },
          "yaxis": {
           "automargin": true,
           "gridcolor": "white",
           "linecolor": "white",
           "ticks": "",
           "title": {
            "standoff": 15
           },
           "zerolinecolor": "white",
           "zerolinewidth": 2
          }
         }
        },
        "title": {
         "text": "Rent variable binned"
        },
        "xaxis": {
         "anchor": "y",
         "autorange": true,
         "domain": [
          0,
          1
         ],
         "range": [
          -0.5,
          4.5
         ],
         "showspikes": false,
         "title": {
          "text": "rent groups"
         },
         "type": "category"
        },
        "yaxis": {
         "anchor": "x",
         "autorange": true,
         "domain": [
          0,
          1
         ],
         "range": [
          0,
          3060
         ],
         "showspikes": false,
         "title": {
          "text": "Frequency"
         },
         "type": "linear"
        }
       }
      },
      "image/png": "[encoded data removed]",
      "text/html": [
       "<div>                            <div id=\"c3015eb7-2273-4ef9-b0fd-d9b5b06b370f\" class=\"plotly-graph-div\" style=\"height:525px; width:100%;\"></div>            <script type=\"text/javascript\">                require([\"plotly\"], function(Plotly) {                    window.PLOTLYENV=window.PLOTLYENV || {};                                    if (document.getElementById(\"c3015eb7-2273-4ef9-b0fd-d9b5b06b370f\")) {                    Plotly.newPlot(                        \"c3015eb7-2273-4ef9-b0fd-d9b5b06b370f\",                        [{\"alignmentgroup\":\"True\",\"hovertemplate\":\"x=%{x}\\u003cbr\\u003ey=%{y}\\u003cextra\\u003e\\u003c\\u002fextra\\u003e\",\"legendgroup\":\"\",\"marker\":{\"color\":\"#636efa\",\"pattern\":{\"shape\":\"\"}},\"name\":\"\",\"offsetgroup\":\"\",\"orientation\":\"v\",\"showlegend\":false,\"textposition\":\"auto\",\"x\":[\"small\",\"compact\",\"compact-medium\",\"high\",\"premium\"],\"xaxis\":\"x\",\"y\":[2907,1262,575,1,1],\"yaxis\":\"y\",\"type\":\"bar\"}],                        {\"template\":{\"data\":{\"histogram2dcontour\":[{\"type\":\"histogram2dcontour\",\"colorbar\":{\"outlinewidth\":0,\"ticks\":\"\"},\"colorscale\":[[0.0,\"#0d0887\"],[0.1111111111111111,\"#46039f\"],[0.2222222222222222,\"#7201a8\"],[0.3333333333333333,\"#9c179e\"],[0.4444444444444444,\"#bd3786\"],[0.5555555555555556,\"#d8576b\"],[0.6666666666666666,\"#ed7953\"],[0.7777777777777778,\"#fb9f3a\"],[0.8888888888888888,\"#fdca26\"],[1.0,\"#f0f921\"]]}],\"choropleth\":[{\"type\":\"choropleth\",\"colorbar\":{\"outlinewidth\":0,\"ticks\":\"\"}}],\"histogram2d\":[{\"type\":\"histogram2d\",\"colorbar\":{\"outlinewidth\":0,\"ticks\":\"\"},\"colorscale\":[[0.0,\"#0d0887\"],[0.1111111111111111,\"#46039f\"],[0.2222222222222222,\"#7201a8\"],[0.3333333333333333,\"#9c179e\"],[0.4444444444444444,\"#bd3786\"],[0.5555555555555556,\"#d8576b\"],[0.6666666666666666,\"#ed7953\"],[0.7777777777777778,\"#fb9f3a\"],[0.8888888888888888,\"#fdca26\"],[1.0,\"#f0f921\"]]}],\"heatmap\":[{\"type\":\"heatmap\",\"colorbar\":{\"outlinewidth\":0,\"ticks\":\"\"},\"colorscale\":[[0.0,\"#0d0887\"],[0.1111111111111111,\"#46039f\"],[0.2222222222222222,\"#7201a8\"],[0.3333333333333333,\"#9c179e\"],[0.4444444444444444,\"#bd3786\"],[0.5555555555555556,\"#d8576b\"],[0.6666666666666666,\"#ed7953\"],[0.7777777777777778,\"#fb9f3a\"],[0.8888888888888888,\"#fdca26\"],[1.0,\"#f0f921\"]]}],\"heatmapgl\":[{\"type\":\"heatmapgl\",\"colorbar\":{\"outlinewidth\":0,\"ticks\":\"\"},\"colorscale\":[[0.0,\"#0d0887\"],[0.1111111111111111,\"#46039f\"],[0.2222222222222222,\"#7201a8\"],[0.3333333333333333,\"#9c179e\"],[0.4444444444444444,\"#bd3786\"],[0.5555555555555556,\"#d8576b\"],[0.6666666666666666,\"#ed7953\"],[0.7777777777777778,\"#fb9f3a\"],[0.8888888888888888,\"#fdca26\"],[1.0,\"#f0f921\"]]}],\"contourcarpet\":[{\"type\":\"contourcarpet\",\"colorbar\":{\"outlinewidth\":0,\"ticks\":\"\"}}],\"contour\":[{\"type\":\"contour\",\"colorbar\":{\"outlinewidth\":0,\"ticks\":\"\"},\"colorscale\":[[0.0,\"#0d0887\"],[0.1111111111111111,\"#46039f\"],[0.2222222222222222,\"#7201a8\"],[0.3333333333333333,\"#9c179e\"],[0.4444444444444444,\"#bd3786\"],[0.5555555555555556,\"#d8576b\"],[0.6666666666666666,\"#ed7953\"],[0.7777777777777778,\"#fb9f3a\"],[0.8888888888888888,\"#fdca26\"],[1.0,\"#f0f921\"]]}],\"surface\":[{\"type\":\"surface\",\"colorbar\":{\"outlinewidth\":0,\"ticks\":\"\"},\"colorscale\":[[0.0,\"#0d0887\"],[0.1111111111111111,\"#46039f\"],[0.2222222222222222,\"#7201a8\"],[0.3333333333333333,\"#9c179e\"],[0.4444444444444444,\"#bd3786\"],[0.5555555555555556,\"#d8576b\"],[0.6666666666666666,\"#ed7953\"],[0.7777777777777778,\"#fb9f3a\"],[0.8888888888888888,\"#fdca26\"],[1.0,\"#f0f921\"]]}],\"mesh3d\":[{\"type\":\"mesh3d\",\"colorbar\":{\"outlinewidth\":0,\"ticks\":\"\"}}],\"scatter\":[{\"fillpattern\":{\"fillmode\":\"overlay\",\"size\":10,\"solidity\":0.2},\"type\":\"scatter\"}],\"parcoords\":[{\"type\":\"parcoords\",\"line\":{\"colorbar\":{\"outlinewidth\":0,\"ticks\":\"\"}}}],\"scatterpolargl\":[{\"type\":\"scatterpolargl\",\"marker\":{\"colorbar\":{\"outlinewidth\":0,\"ticks\":\"\"}}}],\"bar\":[{\"error_x\":{\"color\":\"#2a3f5f\"},\"error_y\":{\"color\":\"#2a3f5f\"},\"marker\":{\"line\":{\"color\":\"#E5ECF6\",\"width\":0.5},\"pattern\":{\"fillmode\":\"overlay\",\"size\":10,\"solidity\":0.2}},\"type\":\"bar\"}],\"scattergeo\":[{\"type\":\"scattergeo\",\"marker\":{\"colorbar\":{\"outlinewidth\":0,\"ticks\":\"\"}}}],\"scatterpolar\":[{\"type\":\"scatterpolar\",\"marker\":{\"colorbar\":{\"outlinewidth\":0,\"ticks\":\"\"}}}],\"histogram\":[{\"marker\":{\"pattern\":{\"fillmode\":\"overlay\",\"size\":10,\"solidity\":0.2}},\"type\":\"histogram\"}],\"scattergl\":[{\"type\":\"scattergl\",\"marker\":{\"colorbar\":{\"outlinewidth\":0,\"ticks\":\"\"}}}],\"scatter3d\":[{\"type\":\"scatter3d\",\"line\":{\"colorbar\":{\"outlinewidth\":0,\"ticks\":\"\"}},\"marker\":{\"colorbar\":{\"outlinewidth\":0,\"ticks\":\"\"}}}],\"scattermapbox\":[{\"type\":\"scattermapbox\",\"marker\":{\"colorbar\":{\"outlinewidth\":0,\"ticks\":\"\"}}}],\"scatterternary\":[{\"type\":\"scatterternary\",\"marker\":{\"colorbar\":{\"outlinewidth\":0,\"ticks\":\"\"}}}],\"scattercarpet\":[{\"type\":\"scattercarpet\",\"marker\":{\"colorbar\":{\"outlinewidth\":0,\"ticks\":\"\"}}}],\"carpet\":[{\"aaxis\":{\"endlinecolor\":\"#2a3f5f\",\"gridcolor\":\"white\",\"linecolor\":\"white\",\"minorgridcolor\":\"white\",\"startlinecolor\":\"#2a3f5f\"},\"baxis\":{\"endlinecolor\":\"#2a3f5f\",\"gridcolor\":\"white\",\"linecolor\":\"white\",\"minorgridcolor\":\"white\",\"startlinecolor\":\"#2a3f5f\"},\"type\":\"carpet\"}],\"table\":[{\"cells\":{\"fill\":{\"color\":\"#EBF0F8\"},\"line\":{\"color\":\"white\"}},\"header\":{\"fill\":{\"color\":\"#C8D4E3\"},\"line\":{\"color\":\"white\"}},\"type\":\"table\"}],\"barpolar\":[{\"marker\":{\"line\":{\"color\":\"#E5ECF6\",\"width\":0.5},\"pattern\":{\"fillmode\":\"overlay\",\"size\":10,\"solidity\":0.2}},\"type\":\"barpolar\"}],\"pie\":[{\"automargin\":true,\"type\":\"pie\"}]},\"layout\":{\"autotypenumbers\":\"strict\",\"colorway\":[\"#636efa\",\"#EF553B\",\"#00cc96\",\"#ab63fa\",\"#FFA15A\",\"#19d3f3\",\"#FF6692\",\"#B6E880\",\"#FF97FF\",\"#FECB52\"],\"font\":{\"color\":\"#2a3f5f\"},\"hovermode\":\"closest\",\"hoverlabel\":{\"align\":\"left\"},\"paper_bgcolor\":\"white\",\"plot_bgcolor\":\"#E5ECF6\",\"polar\":{\"bgcolor\":\"#E5ECF6\",\"angularaxis\":{\"gridcolor\":\"white\",\"linecolor\":\"white\",\"ticks\":\"\"},\"radialaxis\":{\"gridcolor\":\"white\",\"linecolor\":\"white\",\"ticks\":\"\"}},\"ternary\":{\"bgcolor\":\"#E5ECF6\",\"aaxis\":{\"gridcolor\":\"white\",\"linecolor\":\"white\",\"ticks\":\"\"},\"baxis\":{\"gridcolor\":\"white\",\"linecolor\":\"white\",\"ticks\":\"\"},\"caxis\":{\"gridcolor\":\"white\",\"linecolor\":\"white\",\"ticks\":\"\"}},\"coloraxis\":{\"colorbar\":{\"outlinewidth\":0,\"ticks\":\"\"}},\"colorscale\":{\"sequential\":[[0.0,\"#0d0887\"],[0.1111111111111111,\"#46039f\"],[0.2222222222222222,\"#7201a8\"],[0.3333333333333333,\"#9c179e\"],[0.4444444444444444,\"#bd3786\"],[0.5555555555555556,\"#d8576b\"],[0.6666666666666666,\"#ed7953\"],[0.7777777777777778,\"#fb9f3a\"],[0.8888888888888888,\"#fdca26\"],[1.0,\"#f0f921\"]],\"sequentialminus\":[[0.0,\"#0d0887\"],[0.1111111111111111,\"#46039f\"],[0.2222222222222222,\"#7201a8\"],[0.3333333333333333,\"#9c179e\"],[0.4444444444444444,\"#bd3786\"],[0.5555555555555556,\"#d8576b\"],[0.6666666666666666,\"#ed7953\"],[0.7777777777777778,\"#fb9f3a\"],[0.8888888888888888,\"#fdca26\"],[1.0,\"#f0f921\"]],\"diverging\":[[0,\"#8e0152\"],[0.1,\"#c51b7d\"],[0.2,\"#de77ae\"],[0.3,\"#f1b6da\"],[0.4,\"#fde0ef\"],[0.5,\"#f7f7f7\"],[0.6,\"#e6f5d0\"],[0.7,\"#b8e186\"],[0.8,\"#7fbc41\"],[0.9,\"#4d9221\"],[1,\"#276419\"]]},\"xaxis\":{\"gridcolor\":\"white\",\"linecolor\":\"white\",\"ticks\":\"\",\"title\":{\"standoff\":15},\"zerolinecolor\":\"white\",\"automargin\":true,\"zerolinewidth\":2},\"yaxis\":{\"gridcolor\":\"white\",\"linecolor\":\"white\",\"ticks\":\"\",\"title\":{\"standoff\":15},\"zerolinecolor\":\"white\",\"automargin\":true,\"zerolinewidth\":2},\"scene\":{\"xaxis\":{\"backgroundcolor\":\"#E5ECF6\",\"gridcolor\":\"white\",\"linecolor\":\"white\",\"showbackground\":true,\"ticks\":\"\",\"zerolinecolor\":\"white\",\"gridwidth\":2},\"yaxis\":{\"backgroundcolor\":\"#E5ECF6\",\"gridcolor\":\"white\",\"linecolor\":\"white\",\"showbackground\":true,\"ticks\":\"\",\"zerolinecolor\":\"white\",\"gridwidth\":2},\"zaxis\":{\"backgroundcolor\":\"#E5ECF6\",\"gridcolor\":\"white\",\"linecolor\":\"white\",\"showbackground\":true,\"ticks\":\"\",\"zerolinecolor\":\"white\",\"gridwidth\":2}},\"shapedefaults\":{\"line\":{\"color\":\"#2a3f5f\"}},\"annotationdefaults\":{\"arrowcolor\":\"#2a3f5f\",\"arrowhead\":0,\"arrowwidth\":1},\"geo\":{\"bgcolor\":\"white\",\"landcolor\":\"#E5ECF6\",\"subunitcolor\":\"white\",\"showland\":true,\"showlakes\":true,\"lakecolor\":\"white\"},\"title\":{\"x\":0.05},\"mapbox\":{\"style\":\"light\"}}},\"xaxis\":{\"anchor\":\"y\",\"domain\":[0.0,1.0],\"title\":{\"text\":\"rent groups\"}},\"yaxis\":{\"anchor\":\"x\",\"domain\":[0.0,1.0],\"title\":{\"text\":\"Frequency\"}},\"legend\":{\"tracegroupgap\":0},\"title\":{\"text\":\"Rent variable binned\"},\"barmode\":\"relative\"},                        {\"responsive\": true}                    ).then(function(){\n",
       "                            \n",
       "var gd = document.getElementById('c3015eb7-2273-4ef9-b0fd-d9b5b06b370f');\n",
       "var x = new MutationObserver(function (mutations, observer) {{\n",
       "        var display = window.getComputedStyle(gd).display;\n",
       "        if (!display || display === 'none') {{\n",
       "            console.log([gd, 'removed!']);\n",
       "            Plotly.purge(gd);\n",
       "            observer.disconnect();\n",
       "        }}\n",
       "}});\n",
       "\n",
       "// Listen for the removal of the full notebook cells\n",
       "var notebookContainer = gd.closest('#notebook-container');\n",
       "if (notebookContainer) {{\n",
       "    x.observe(notebookContainer, {childList: true});\n",
       "}}\n",
       "\n",
       "// Listen for the clearing of the current output cell\n",
       "var outputEl = gd.closest('.output');\n",
       "if (outputEl) {{\n",
       "    x.observe(outputEl, {childList: true});\n",
       "}}\n",
       "\n",
       "                        })                };                });            </script>        </div>"
      ]
     },
     "metadata": {},
     "output_type": "display_data"
    }
   ],
   "source": [
    "fig = px.bar(y=[2907, 1262, 575, 1, 1],x=group_names1,title=\"Rent variable binned\")\n",
    "fig.write_html('first_figure.html', auto_open=True)\n",
    "fig.update_layout(\n",
    "    xaxis_title = \"rent groups\",\n",
    "    yaxis_title = \"Frequency\"\n",
    ")\n",
    "fig.show()\n"
   ]
  },
  {
   "cell_type": "code",
   "execution_count": 42,
   "id": "b0c538bd-0b1f-4f92-838b-8cd89472a565",
   "metadata": {},
   "outputs": [
    {
     "name": "stdout",
     "output_type": "stream",
     "text": [
      "<class 'pandas.core.frame.DataFrame'>\n",
      "RangeIndex: 4746 entries, 0 to 4745\n",
      "Data columns (total 14 columns):\n",
      " #   Column             Non-Null Count  Dtype         \n",
      "---  ------             --------------  -----         \n",
      " 0   Posted On          4746 non-null   datetime64[ns]\n",
      " 1   BHK                4746 non-null   int64         \n",
      " 2   Rent               4746 non-null   float64       \n",
      " 3   Size               4746 non-null   int64         \n",
      " 4   Floor              4746 non-null   object        \n",
      " 5   Area Type          4746 non-null   object        \n",
      " 6   Area Locality      4746 non-null   object        \n",
      " 7   City               4746 non-null   object        \n",
      " 8   Furnishing Status  4746 non-null   object        \n",
      " 9   Tenant Preferred   4746 non-null   object        \n",
      " 10  Bathroom           4746 non-null   int64         \n",
      " 11  Point Of Contact   4746 non-null   object        \n",
      " 12  Size-binned        4746 non-null   category      \n",
      " 13  Rent-binned        4746 non-null   category      \n",
      "dtypes: category(2), datetime64[ns](1), float64(1), int64(3), object(7)\n",
      "memory usage: 454.6+ KB\n"
     ]
    }
   ],
   "source": [
    "dt.info()"
   ]
  },
  {
   "cell_type": "code",
   "execution_count": 43,
   "id": "e41dd43b-2092-4029-88db-1f7982fea50b",
   "metadata": {},
   "outputs": [
    {
     "data": {
      "text/plain": [
       "Furnishing Status\n",
       "Semi-Furnished    2251\n",
       "Unfurnished       1815\n",
       "Furnished          680\n",
       "Name: count, dtype: int64"
      ]
     },
     "execution_count": 43,
     "metadata": {},
     "output_type": "execute_result"
    }
   ],
   "source": [
    "dt[\"Furnishing Status\"].value_counts()"
   ]
  },
  {
   "cell_type": "code",
   "execution_count": 44,
   "id": "a04a0eff-e96a-47d9-a70f-9e59d604d5c5",
   "metadata": {},
   "outputs": [
    {
     "data": {
      "text/html": [
       "<div>\n",
       "<style scoped>\n",
       "    .dataframe tbody tr th:only-of-type {\n",
       "        vertical-align: middle;\n",
       "    }\n",
       "\n",
       "    .dataframe tbody tr th {\n",
       "        vertical-align: top;\n",
       "    }\n",
       "\n",
       "    .dataframe thead th {\n",
       "        text-align: right;\n",
       "    }\n",
       "</style>\n",
       "<table border=\"1\" class=\"dataframe\">\n",
       "  <thead>\n",
       "    <tr style=\"text-align: right;\">\n",
       "      <th></th>\n",
       "      <th>Furnished</th>\n",
       "      <th>Semi-Furnished</th>\n",
       "      <th>Unfurnished</th>\n",
       "    </tr>\n",
       "  </thead>\n",
       "  <tbody>\n",
       "    <tr>\n",
       "      <th>0</th>\n",
       "      <td>0</td>\n",
       "      <td>0</td>\n",
       "      <td>1</td>\n",
       "    </tr>\n",
       "    <tr>\n",
       "      <th>1</th>\n",
       "      <td>0</td>\n",
       "      <td>1</td>\n",
       "      <td>0</td>\n",
       "    </tr>\n",
       "    <tr>\n",
       "      <th>2</th>\n",
       "      <td>0</td>\n",
       "      <td>1</td>\n",
       "      <td>0</td>\n",
       "    </tr>\n",
       "    <tr>\n",
       "      <th>3</th>\n",
       "      <td>0</td>\n",
       "      <td>0</td>\n",
       "      <td>1</td>\n",
       "    </tr>\n",
       "    <tr>\n",
       "      <th>4</th>\n",
       "      <td>0</td>\n",
       "      <td>0</td>\n",
       "      <td>1</td>\n",
       "    </tr>\n",
       "  </tbody>\n",
       "</table>\n",
       "</div>"
      ],
      "text/plain": [
       "   Furnished  Semi-Furnished  Unfurnished\n",
       "0          0               0            1\n",
       "1          0               1            0\n",
       "2          0               1            0\n",
       "3          0               0            1\n",
       "4          0               0            1"
      ]
     },
     "execution_count": 44,
     "metadata": {},
     "output_type": "execute_result"
    }
   ],
   "source": [
    "dummy_var1 = pd.get_dummies(dt[\"Furnishing Status\"])\n",
    "dummy_var1 = dummy_var1.astype(\"int\")\n",
    "dummy_var1.head()"
   ]
  },
  {
   "cell_type": "markdown",
   "id": "43744d5a-b26b-4882-9baf-6a6a64154da6",
   "metadata": {},
   "source": [
    "Therefore the reference class is \"Furnished\" for which dummy variable value is (0,0,0)"
   ]
  },
  {
   "cell_type": "code",
   "execution_count": 45,
   "id": "ecd7b17c-69f9-4f70-a2dd-cdc917321e02",
   "metadata": {},
   "outputs": [
    {
     "data": {
      "text/html": [
       "<div>\n",
       "<style scoped>\n",
       "    .dataframe tbody tr th:only-of-type {\n",
       "        vertical-align: middle;\n",
       "    }\n",
       "\n",
       "    .dataframe tbody tr th {\n",
       "        vertical-align: top;\n",
       "    }\n",
       "\n",
       "    .dataframe thead th {\n",
       "        text-align: right;\n",
       "    }\n",
       "</style>\n",
       "<table border=\"1\" class=\"dataframe\">\n",
       "  <thead>\n",
       "    <tr style=\"text-align: right;\">\n",
       "      <th></th>\n",
       "      <th>Posted On</th>\n",
       "      <th>BHK</th>\n",
       "      <th>Rent</th>\n",
       "      <th>Size</th>\n",
       "      <th>Floor</th>\n",
       "      <th>Area Type</th>\n",
       "      <th>Area Locality</th>\n",
       "      <th>City</th>\n",
       "      <th>Tenant Preferred</th>\n",
       "      <th>Bathroom</th>\n",
       "      <th>Point Of Contact</th>\n",
       "      <th>Size-binned</th>\n",
       "      <th>Rent-binned</th>\n",
       "      <th>Furnished</th>\n",
       "      <th>Semi-Furnished</th>\n",
       "      <th>Unfurnished</th>\n",
       "    </tr>\n",
       "  </thead>\n",
       "  <tbody>\n",
       "    <tr>\n",
       "      <th>0</th>\n",
       "      <td>2022-05-18</td>\n",
       "      <td>2</td>\n",
       "      <td>10000.0</td>\n",
       "      <td>1100</td>\n",
       "      <td>Ground out of 2</td>\n",
       "      <td>Super Area</td>\n",
       "      <td>Bandel</td>\n",
       "      <td>Kolkata</td>\n",
       "      <td>Bachelors/Family</td>\n",
       "      <td>2</td>\n",
       "      <td>Contact Owner</td>\n",
       "      <td>Small</td>\n",
       "      <td>Low</td>\n",
       "      <td>0</td>\n",
       "      <td>0</td>\n",
       "      <td>1</td>\n",
       "    </tr>\n",
       "    <tr>\n",
       "      <th>1</th>\n",
       "      <td>2022-05-13</td>\n",
       "      <td>2</td>\n",
       "      <td>20000.0</td>\n",
       "      <td>800</td>\n",
       "      <td>1 out of 3</td>\n",
       "      <td>Super Area</td>\n",
       "      <td>Phool Bagan, Kankurgachi</td>\n",
       "      <td>Kolkata</td>\n",
       "      <td>Bachelors/Family</td>\n",
       "      <td>1</td>\n",
       "      <td>Contact Owner</td>\n",
       "      <td>Small</td>\n",
       "      <td>Low</td>\n",
       "      <td>0</td>\n",
       "      <td>1</td>\n",
       "      <td>0</td>\n",
       "    </tr>\n",
       "    <tr>\n",
       "      <th>2</th>\n",
       "      <td>2022-05-16</td>\n",
       "      <td>2</td>\n",
       "      <td>17000.0</td>\n",
       "      <td>1000</td>\n",
       "      <td>1 out of 3</td>\n",
       "      <td>Super Area</td>\n",
       "      <td>Salt Lake City Sector 2</td>\n",
       "      <td>Kolkata</td>\n",
       "      <td>Bachelors/Family</td>\n",
       "      <td>1</td>\n",
       "      <td>Contact Owner</td>\n",
       "      <td>Small</td>\n",
       "      <td>Low</td>\n",
       "      <td>0</td>\n",
       "      <td>1</td>\n",
       "      <td>0</td>\n",
       "    </tr>\n",
       "    <tr>\n",
       "      <th>3</th>\n",
       "      <td>2022-07-04</td>\n",
       "      <td>2</td>\n",
       "      <td>10000.0</td>\n",
       "      <td>800</td>\n",
       "      <td>1 out of 2</td>\n",
       "      <td>Super Area</td>\n",
       "      <td>Dumdum Park</td>\n",
       "      <td>Kolkata</td>\n",
       "      <td>Bachelors/Family</td>\n",
       "      <td>1</td>\n",
       "      <td>Contact Owner</td>\n",
       "      <td>Small</td>\n",
       "      <td>Low</td>\n",
       "      <td>0</td>\n",
       "      <td>0</td>\n",
       "      <td>1</td>\n",
       "    </tr>\n",
       "    <tr>\n",
       "      <th>4</th>\n",
       "      <td>2022-05-09</td>\n",
       "      <td>2</td>\n",
       "      <td>7500.0</td>\n",
       "      <td>850</td>\n",
       "      <td>1 out of 2</td>\n",
       "      <td>Carpet Area</td>\n",
       "      <td>South Dum Dum</td>\n",
       "      <td>Kolkata</td>\n",
       "      <td>Bachelors</td>\n",
       "      <td>1</td>\n",
       "      <td>Contact Owner</td>\n",
       "      <td>Small</td>\n",
       "      <td>Low</td>\n",
       "      <td>0</td>\n",
       "      <td>0</td>\n",
       "      <td>1</td>\n",
       "    </tr>\n",
       "  </tbody>\n",
       "</table>\n",
       "</div>"
      ],
      "text/plain": [
       "   Posted On  BHK     Rent  Size            Floor    Area Type  \\\n",
       "0 2022-05-18    2  10000.0  1100  Ground out of 2   Super Area   \n",
       "1 2022-05-13    2  20000.0   800       1 out of 3   Super Area   \n",
       "2 2022-05-16    2  17000.0  1000       1 out of 3   Super Area   \n",
       "3 2022-07-04    2  10000.0   800       1 out of 2   Super Area   \n",
       "4 2022-05-09    2   7500.0   850       1 out of 2  Carpet Area   \n",
       "\n",
       "              Area Locality     City  Tenant Preferred  Bathroom  \\\n",
       "0                    Bandel  Kolkata  Bachelors/Family         2   \n",
       "1  Phool Bagan, Kankurgachi  Kolkata  Bachelors/Family         1   \n",
       "2   Salt Lake City Sector 2  Kolkata  Bachelors/Family         1   \n",
       "3               Dumdum Park  Kolkata  Bachelors/Family         1   \n",
       "4             South Dum Dum  Kolkata         Bachelors         1   \n",
       "\n",
       "  Point Of Contact Size-binned Rent-binned  Furnished  Semi-Furnished  \\\n",
       "0    Contact Owner       Small         Low          0               0   \n",
       "1    Contact Owner       Small         Low          0               1   \n",
       "2    Contact Owner       Small         Low          0               1   \n",
       "3    Contact Owner       Small         Low          0               0   \n",
       "4    Contact Owner       Small         Low          0               0   \n",
       "\n",
       "   Unfurnished  \n",
       "0            1  \n",
       "1            0  \n",
       "2            0  \n",
       "3            1  \n",
       "4            1  "
      ]
     },
     "execution_count": 45,
     "metadata": {},
     "output_type": "execute_result"
    }
   ],
   "source": [
    "dt = pd.concat([dt,dummy_var1],axis=1)\n",
    "dt.drop(\"Furnishing Status\",axis=1,inplace=True)\n",
    "dt.head()"
   ]
  },
  {
   "cell_type": "code",
   "execution_count": 47,
   "id": "06ec0f3a-3603-4cf4-82bf-27bf74577bf7",
   "metadata": {},
   "outputs": [
    {
     "data": {
      "text/plain": [
       "Tenant Preferred\n",
       "Bachelors/Family    3444\n",
       "Bachelors            830\n",
       "Family               472\n",
       "Name: count, dtype: int64"
      ]
     },
     "execution_count": 47,
     "metadata": {},
     "output_type": "execute_result"
    }
   ],
   "source": [
    "dt[\"Tenant Preferred\"].value_counts()"
   ]
  },
  {
   "cell_type": "code",
   "execution_count": 48,
   "id": "0bae5528-6cbd-4868-81e7-6684dfef3823",
   "metadata": {},
   "outputs": [
    {
     "data": {
      "text/html": [
       "<div>\n",
       "<style scoped>\n",
       "    .dataframe tbody tr th:only-of-type {\n",
       "        vertical-align: middle;\n",
       "    }\n",
       "\n",
       "    .dataframe tbody tr th {\n",
       "        vertical-align: top;\n",
       "    }\n",
       "\n",
       "    .dataframe thead th {\n",
       "        text-align: right;\n",
       "    }\n",
       "</style>\n",
       "<table border=\"1\" class=\"dataframe\">\n",
       "  <thead>\n",
       "    <tr style=\"text-align: right;\">\n",
       "      <th></th>\n",
       "      <th>Bachelors</th>\n",
       "      <th>Bachelors/Family</th>\n",
       "      <th>Family</th>\n",
       "    </tr>\n",
       "  </thead>\n",
       "  <tbody>\n",
       "    <tr>\n",
       "      <th>0</th>\n",
       "      <td>0</td>\n",
       "      <td>1</td>\n",
       "      <td>0</td>\n",
       "    </tr>\n",
       "    <tr>\n",
       "      <th>1</th>\n",
       "      <td>0</td>\n",
       "      <td>1</td>\n",
       "      <td>0</td>\n",
       "    </tr>\n",
       "    <tr>\n",
       "      <th>2</th>\n",
       "      <td>0</td>\n",
       "      <td>1</td>\n",
       "      <td>0</td>\n",
       "    </tr>\n",
       "    <tr>\n",
       "      <th>3</th>\n",
       "      <td>0</td>\n",
       "      <td>1</td>\n",
       "      <td>0</td>\n",
       "    </tr>\n",
       "    <tr>\n",
       "      <th>4</th>\n",
       "      <td>1</td>\n",
       "      <td>0</td>\n",
       "      <td>0</td>\n",
       "    </tr>\n",
       "  </tbody>\n",
       "</table>\n",
       "</div>"
      ],
      "text/plain": [
       "   Bachelors  Bachelors/Family  Family\n",
       "0          0                 1       0\n",
       "1          0                 1       0\n",
       "2          0                 1       0\n",
       "3          0                 1       0\n",
       "4          1                 0       0"
      ]
     },
     "execution_count": 48,
     "metadata": {},
     "output_type": "execute_result"
    }
   ],
   "source": [
    "dummy_var2 = pd.get_dummies(dt[\"Tenant Preferred\"])\n",
    "dummy_var2 = dummy_var2.astype(\"int\")\n",
    "dummy_var2.head()"
   ]
  },
  {
   "cell_type": "markdown",
   "id": "2a5602c2-3a5c-474b-9448-9441c3ad76ff",
   "metadata": {},
   "source": [
    "Therefore the reference class is \"Bachelors\" for which dummy variable value is (0,0,0)"
   ]
  },
  {
   "cell_type": "code",
   "execution_count": 49,
   "id": "7a830518-1f36-4805-bfe7-43e56337da30",
   "metadata": {},
   "outputs": [
    {
     "data": {
      "text/html": [
       "<div>\n",
       "<style scoped>\n",
       "    .dataframe tbody tr th:only-of-type {\n",
       "        vertical-align: middle;\n",
       "    }\n",
       "\n",
       "    .dataframe tbody tr th {\n",
       "        vertical-align: top;\n",
       "    }\n",
       "\n",
       "    .dataframe thead th {\n",
       "        text-align: right;\n",
       "    }\n",
       "</style>\n",
       "<table border=\"1\" class=\"dataframe\">\n",
       "  <thead>\n",
       "    <tr style=\"text-align: right;\">\n",
       "      <th></th>\n",
       "      <th>Posted On</th>\n",
       "      <th>BHK</th>\n",
       "      <th>Rent</th>\n",
       "      <th>Size</th>\n",
       "      <th>Floor</th>\n",
       "      <th>Area Type</th>\n",
       "      <th>Area Locality</th>\n",
       "      <th>City</th>\n",
       "      <th>Bathroom</th>\n",
       "      <th>Point Of Contact</th>\n",
       "      <th>Size-binned</th>\n",
       "      <th>Rent-binned</th>\n",
       "      <th>Furnished</th>\n",
       "      <th>Semi-Furnished</th>\n",
       "      <th>Unfurnished</th>\n",
       "      <th>Bachelors</th>\n",
       "      <th>Bachelors/Family</th>\n",
       "      <th>Family</th>\n",
       "    </tr>\n",
       "  </thead>\n",
       "  <tbody>\n",
       "    <tr>\n",
       "      <th>0</th>\n",
       "      <td>2022-05-18</td>\n",
       "      <td>2</td>\n",
       "      <td>10000.0</td>\n",
       "      <td>1100</td>\n",
       "      <td>Ground out of 2</td>\n",
       "      <td>Super Area</td>\n",
       "      <td>Bandel</td>\n",
       "      <td>Kolkata</td>\n",
       "      <td>2</td>\n",
       "      <td>Contact Owner</td>\n",
       "      <td>Small</td>\n",
       "      <td>Low</td>\n",
       "      <td>0</td>\n",
       "      <td>0</td>\n",
       "      <td>1</td>\n",
       "      <td>0</td>\n",
       "      <td>1</td>\n",
       "      <td>0</td>\n",
       "    </tr>\n",
       "    <tr>\n",
       "      <th>1</th>\n",
       "      <td>2022-05-13</td>\n",
       "      <td>2</td>\n",
       "      <td>20000.0</td>\n",
       "      <td>800</td>\n",
       "      <td>1 out of 3</td>\n",
       "      <td>Super Area</td>\n",
       "      <td>Phool Bagan, Kankurgachi</td>\n",
       "      <td>Kolkata</td>\n",
       "      <td>1</td>\n",
       "      <td>Contact Owner</td>\n",
       "      <td>Small</td>\n",
       "      <td>Low</td>\n",
       "      <td>0</td>\n",
       "      <td>1</td>\n",
       "      <td>0</td>\n",
       "      <td>0</td>\n",
       "      <td>1</td>\n",
       "      <td>0</td>\n",
       "    </tr>\n",
       "    <tr>\n",
       "      <th>2</th>\n",
       "      <td>2022-05-16</td>\n",
       "      <td>2</td>\n",
       "      <td>17000.0</td>\n",
       "      <td>1000</td>\n",
       "      <td>1 out of 3</td>\n",
       "      <td>Super Area</td>\n",
       "      <td>Salt Lake City Sector 2</td>\n",
       "      <td>Kolkata</td>\n",
       "      <td>1</td>\n",
       "      <td>Contact Owner</td>\n",
       "      <td>Small</td>\n",
       "      <td>Low</td>\n",
       "      <td>0</td>\n",
       "      <td>1</td>\n",
       "      <td>0</td>\n",
       "      <td>0</td>\n",
       "      <td>1</td>\n",
       "      <td>0</td>\n",
       "    </tr>\n",
       "    <tr>\n",
       "      <th>3</th>\n",
       "      <td>2022-07-04</td>\n",
       "      <td>2</td>\n",
       "      <td>10000.0</td>\n",
       "      <td>800</td>\n",
       "      <td>1 out of 2</td>\n",
       "      <td>Super Area</td>\n",
       "      <td>Dumdum Park</td>\n",
       "      <td>Kolkata</td>\n",
       "      <td>1</td>\n",
       "      <td>Contact Owner</td>\n",
       "      <td>Small</td>\n",
       "      <td>Low</td>\n",
       "      <td>0</td>\n",
       "      <td>0</td>\n",
       "      <td>1</td>\n",
       "      <td>0</td>\n",
       "      <td>1</td>\n",
       "      <td>0</td>\n",
       "    </tr>\n",
       "    <tr>\n",
       "      <th>4</th>\n",
       "      <td>2022-05-09</td>\n",
       "      <td>2</td>\n",
       "      <td>7500.0</td>\n",
       "      <td>850</td>\n",
       "      <td>1 out of 2</td>\n",
       "      <td>Carpet Area</td>\n",
       "      <td>South Dum Dum</td>\n",
       "      <td>Kolkata</td>\n",
       "      <td>1</td>\n",
       "      <td>Contact Owner</td>\n",
       "      <td>Small</td>\n",
       "      <td>Low</td>\n",
       "      <td>0</td>\n",
       "      <td>0</td>\n",
       "      <td>1</td>\n",
       "      <td>1</td>\n",
       "      <td>0</td>\n",
       "      <td>0</td>\n",
       "    </tr>\n",
       "  </tbody>\n",
       "</table>\n",
       "</div>"
      ],
      "text/plain": [
       "   Posted On  BHK     Rent  Size            Floor    Area Type  \\\n",
       "0 2022-05-18    2  10000.0  1100  Ground out of 2   Super Area   \n",
       "1 2022-05-13    2  20000.0   800       1 out of 3   Super Area   \n",
       "2 2022-05-16    2  17000.0  1000       1 out of 3   Super Area   \n",
       "3 2022-07-04    2  10000.0   800       1 out of 2   Super Area   \n",
       "4 2022-05-09    2   7500.0   850       1 out of 2  Carpet Area   \n",
       "\n",
       "              Area Locality     City  Bathroom Point Of Contact Size-binned  \\\n",
       "0                    Bandel  Kolkata         2    Contact Owner       Small   \n",
       "1  Phool Bagan, Kankurgachi  Kolkata         1    Contact Owner       Small   \n",
       "2   Salt Lake City Sector 2  Kolkata         1    Contact Owner       Small   \n",
       "3               Dumdum Park  Kolkata         1    Contact Owner       Small   \n",
       "4             South Dum Dum  Kolkata         1    Contact Owner       Small   \n",
       "\n",
       "  Rent-binned  Furnished  Semi-Furnished  Unfurnished  Bachelors  \\\n",
       "0         Low          0               0            1          0   \n",
       "1         Low          0               1            0          0   \n",
       "2         Low          0               1            0          0   \n",
       "3         Low          0               0            1          0   \n",
       "4         Low          0               0            1          1   \n",
       "\n",
       "   Bachelors/Family  Family  \n",
       "0                 1       0  \n",
       "1                 1       0  \n",
       "2                 1       0  \n",
       "3                 1       0  \n",
       "4                 0       0  "
      ]
     },
     "execution_count": 49,
     "metadata": {},
     "output_type": "execute_result"
    }
   ],
   "source": [
    "dt = pd.concat([dt,dummy_var2],axis=1)\n",
    "dt.drop(\"Tenant Preferred\",axis=1,inplace=True)\n",
    "dt.head()"
   ]
  },
  {
   "cell_type": "code",
   "execution_count": 50,
   "id": "81b3c29a-ba96-4bf2-8b9b-2b98404cb090",
   "metadata": {},
   "outputs": [],
   "source": [
    "dt.to_csv('clean_df.csv',index=False)"
   ]
  }
 ],
 "metadata": {
  "kernelspec": {
   "display_name": "Python 3 (ipykernel)",
   "language": "python",
   "name": "python3"
  },
  "language_info": {
   "codemirror_mode": {
    "name": "ipython",
    "version": 3
   },
   "file_extension": ".py",
   "mimetype": "text/x-python",
   "name": "python",
   "nbconvert_exporter": "python",
   "pygments_lexer": "ipython3",
   "version": "3.11.6"
  }
 },
 "nbformat": 4,
 "nbformat_minor": 5
}
